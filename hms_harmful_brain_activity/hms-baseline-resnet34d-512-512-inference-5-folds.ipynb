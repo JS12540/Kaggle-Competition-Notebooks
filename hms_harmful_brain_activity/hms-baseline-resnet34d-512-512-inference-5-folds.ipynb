{
 "cells": [
  {
   "cell_type": "markdown",
   "id": "ea335925",
   "metadata": {
    "_cell_guid": "b1076dfc-b9ad-4769-8c92-a6c4dae69d19",
    "_uuid": "8f2839f25d086af736a60e9eeb907d3b93b6e0e5",
    "papermill": {
     "duration": 0.003858,
     "end_time": "2024-01-18T09:25:00.572608",
     "exception": false,
     "start_time": "2024-01-18T09:25:00.568750",
     "status": "completed"
    },
    "tags": []
   },
   "source": [
    "### Created by yunsuxiaozi"
   ]
  },
  {
   "cell_type": "markdown",
   "id": "48a56a2a",
   "metadata": {
    "papermill": {
     "duration": 0.003009,
     "end_time": "2024-01-18T09:25:00.579193",
     "exception": false,
     "start_time": "2024-01-18T09:25:00.576184",
     "status": "completed"
    },
    "tags": []
   },
   "source": [
    "### Import necessary libraries"
   ]
  },
  {
   "cell_type": "code",
   "execution_count": 1,
   "id": "4246e675",
   "metadata": {
    "execution": {
     "iopub.execute_input": "2024-01-18T09:25:00.587721Z",
     "iopub.status.busy": "2024-01-18T09:25:00.587352Z",
     "iopub.status.idle": "2024-01-18T09:25:04.511636Z",
     "shell.execute_reply": "2024-01-18T09:25:04.510578Z"
    },
    "papermill": {
     "duration": 3.931876,
     "end_time": "2024-01-18T09:25:04.514248",
     "exception": false,
     "start_time": "2024-01-18T09:25:00.582372",
     "status": "completed"
    },
    "tags": []
   },
   "outputs": [],
   "source": [
    "#https://www.kaggle.com/code/ttahara/hms-hbac-resnet34d-baseline-training\n",
    "#https://www.kaggle.com/code/ttahara/hms-hbac-resnet34d-baseline-inference\n",
    "#necessary\n",
    "import pandas as pd#导入csv文件的库\n",
    "import numpy as np#进行矩阵运算的库\n",
    "import torch #一个深度学习的库Pytorch\n",
    "import torch.nn as nn#neural network,神经网络\n",
    "import torch.nn.functional as F#神经网络函数库\n",
    "import torchvision.transforms as transforms#Pytorch下面的图像处理库,用于对图像进行数据增强\n",
    "#设置随机种子\n",
    "import random\n",
    "import warnings#避免一些可以忽略的报错\n",
    "warnings.filterwarnings('ignore')#filterwarnings()方法是用于设置警告过滤器的方法，它可以控制警告信息的输出方式和级别。"
   ]
  },
  {
   "cell_type": "markdown",
   "id": "24339432",
   "metadata": {
    "papermill": {
     "duration": 0.003346,
     "end_time": "2024-01-18T09:25:04.521262",
     "exception": false,
     "start_time": "2024-01-18T09:25:04.517916",
     "status": "completed"
    },
    "tags": []
   },
   "source": [
    "### Config"
   ]
  },
  {
   "cell_type": "code",
   "execution_count": 2,
   "id": "20b6efa5",
   "metadata": {
    "execution": {
     "iopub.execute_input": "2024-01-18T09:25:04.530189Z",
     "iopub.status.busy": "2024-01-18T09:25:04.529626Z",
     "iopub.status.idle": "2024-01-18T09:25:04.534880Z",
     "shell.execute_reply": "2024-01-18T09:25:04.534011Z"
    },
    "papermill": {
     "duration": 0.012147,
     "end_time": "2024-01-18T09:25:04.536923",
     "exception": false,
     "start_time": "2024-01-18T09:25:04.524776",
     "status": "completed"
    },
    "tags": []
   },
   "outputs": [],
   "source": [
    "class Config:\n",
    "    seed=2024\n",
    "    image_transform=transforms.Resize((512, 512))\n",
    "    num_folds=5"
   ]
  },
  {
   "cell_type": "markdown",
   "id": "dc7239b3",
   "metadata": {
    "papermill": {
     "duration": 0.003313,
     "end_time": "2024-01-18T09:25:04.543945",
     "exception": false,
     "start_time": "2024-01-18T09:25:04.540632",
     "status": "completed"
    },
    "tags": []
   },
   "source": [
    "### trained_models"
   ]
  },
  {
   "cell_type": "code",
   "execution_count": 3,
   "id": "32e01a22",
   "metadata": {
    "execution": {
     "iopub.execute_input": "2024-01-18T09:25:04.553181Z",
     "iopub.status.busy": "2024-01-18T09:25:04.552451Z",
     "iopub.status.idle": "2024-01-18T09:25:09.892793Z",
     "shell.execute_reply": "2024-01-18T09:25:09.891711Z"
    },
    "papermill": {
     "duration": 5.347694,
     "end_time": "2024-01-18T09:25:09.895288",
     "exception": false,
     "start_time": "2024-01-18T09:25:04.547594",
     "status": "completed"
    },
    "tags": []
   },
   "outputs": [],
   "source": [
    "models=[]\n",
    "for i in range(Config.num_folds):\n",
    "    model = torch.load(f'/kaggle/input/hms-baseline-resnet34d-512-512-training-5-folds/HMS_resnet_fold{i}.pth')\n",
    "    models.append(model)"
   ]
  },
  {
   "cell_type": "markdown",
   "id": "840f651d",
   "metadata": {
    "papermill": {
     "duration": 0.003324,
     "end_time": "2024-01-18T09:25:09.902368",
     "exception": false,
     "start_time": "2024-01-18T09:25:09.899044",
     "status": "completed"
    },
    "tags": []
   },
   "source": [
    "### Seed"
   ]
  },
  {
   "cell_type": "code",
   "execution_count": 4,
   "id": "235c301a",
   "metadata": {
    "execution": {
     "iopub.execute_input": "2024-01-18T09:25:09.911893Z",
     "iopub.status.busy": "2024-01-18T09:25:09.910639Z",
     "iopub.status.idle": "2024-01-18T09:25:09.922202Z",
     "shell.execute_reply": "2024-01-18T09:25:09.921154Z"
    },
    "papermill": {
     "duration": 0.018973,
     "end_time": "2024-01-18T09:25:09.924834",
     "exception": false,
     "start_time": "2024-01-18T09:25:09.905861",
     "status": "completed"
    },
    "tags": []
   },
   "outputs": [],
   "source": [
    "def seed_everything(seed):\n",
    "    torch.backends.cudnn.deterministic = True#将cuda加速的随机数生成器设为确定性模式\n",
    "    torch.backends.cudnn.benchmark = True#关闭CuDNN框架的自动寻找最优卷积算法的功能，以避免不同的算法对结果产生影响\n",
    "    torch.manual_seed(seed)#pytorch的随机种子\n",
    "    np.random.seed(seed)#numpy的随机种子\n",
    "    random.seed(seed)#python内置的随机种子\n",
    "seed_everything(Config.seed)"
   ]
  },
  {
   "cell_type": "markdown",
   "id": "caeb8549",
   "metadata": {
    "papermill": {
     "duration": 0.003574,
     "end_time": "2024-01-18T09:25:09.932403",
     "exception": false,
     "start_time": "2024-01-18T09:25:09.928829",
     "status": "completed"
    },
    "tags": []
   },
   "source": [
    "### Import test dataset"
   ]
  },
  {
   "cell_type": "code",
   "execution_count": 5,
   "id": "85ef5cc7",
   "metadata": {
    "execution": {
     "iopub.execute_input": "2024-01-18T09:25:09.941675Z",
     "iopub.status.busy": "2024-01-18T09:25:09.941275Z",
     "iopub.status.idle": "2024-01-18T09:25:10.010604Z",
     "shell.execute_reply": "2024-01-18T09:25:10.009407Z"
    },
    "papermill": {
     "duration": 0.076636,
     "end_time": "2024-01-18T09:25:10.012886",
     "exception": false,
     "start_time": "2024-01-18T09:25:09.936250",
     "status": "completed"
    },
    "tags": []
   },
   "outputs": [
    {
     "data": {
      "text/html": [
       "<div>\n",
       "<style scoped>\n",
       "    .dataframe tbody tr th:only-of-type {\n",
       "        vertical-align: middle;\n",
       "    }\n",
       "\n",
       "    .dataframe tbody tr th {\n",
       "        vertical-align: top;\n",
       "    }\n",
       "\n",
       "    .dataframe thead th {\n",
       "        text-align: right;\n",
       "    }\n",
       "</style>\n",
       "<table border=\"1\" class=\"dataframe\">\n",
       "  <thead>\n",
       "    <tr style=\"text-align: right;\">\n",
       "      <th></th>\n",
       "      <th>eeg_id</th>\n",
       "      <th>seizure_vote</th>\n",
       "      <th>lpd_vote</th>\n",
       "      <th>gpd_vote</th>\n",
       "      <th>lrda_vote</th>\n",
       "      <th>grda_vote</th>\n",
       "      <th>other_vote</th>\n",
       "      <th>spectrogram_id</th>\n",
       "      <th>patient_id</th>\n",
       "      <th>path</th>\n",
       "    </tr>\n",
       "  </thead>\n",
       "  <tbody>\n",
       "    <tr>\n",
       "      <th>0</th>\n",
       "      <td>3911565283</td>\n",
       "      <td>0.166667</td>\n",
       "      <td>0.166667</td>\n",
       "      <td>0.166667</td>\n",
       "      <td>0.166667</td>\n",
       "      <td>0.166667</td>\n",
       "      <td>0.166667</td>\n",
       "      <td>853520</td>\n",
       "      <td>6885</td>\n",
       "      <td>/kaggle/input/hms-harmful-brain-activity-class...</td>\n",
       "    </tr>\n",
       "  </tbody>\n",
       "</table>\n",
       "</div>"
      ],
      "text/plain": [
       "       eeg_id  seizure_vote  lpd_vote  gpd_vote  lrda_vote  grda_vote  \\\n",
       "0  3911565283      0.166667  0.166667  0.166667   0.166667   0.166667   \n",
       "\n",
       "   other_vote  spectrogram_id  patient_id  \\\n",
       "0    0.166667          853520        6885   \n",
       "\n",
       "                                                path  \n",
       "0  /kaggle/input/hms-harmful-brain-activity-class...  "
      ]
     },
     "execution_count": 5,
     "metadata": {},
     "output_type": "execute_result"
    }
   ],
   "source": [
    "test_df=pd.read_csv(\"/kaggle/input/hms-harmful-brain-activity-classification/test.csv\")\n",
    "submission=pd.read_csv(\"/kaggle/input/hms-harmful-brain-activity-classification/sample_submission.csv\")\n",
    "submission=submission.merge(test_df,on='eeg_id',how='left')\n",
    "submission['path']=submission['spectrogram_id'].apply(lambda x: \"/kaggle/input/hms-harmful-brain-activity-classification/test_spectrograms/\"+str(x)+\".parquet\" )\n",
    "submission.head()"
   ]
  },
  {
   "cell_type": "markdown",
   "id": "a2350995",
   "metadata": {
    "papermill": {
     "duration": 0.003818,
     "end_time": "2024-01-18T09:25:10.020947",
     "exception": false,
     "start_time": "2024-01-18T09:25:10.017129",
     "status": "completed"
    },
    "tags": []
   },
   "source": [
    "### Prediction"
   ]
  },
  {
   "cell_type": "code",
   "execution_count": 6,
   "id": "ec55e5bc",
   "metadata": {
    "execution": {
     "iopub.execute_input": "2024-01-18T09:25:10.031487Z",
     "iopub.status.busy": "2024-01-18T09:25:10.031100Z",
     "iopub.status.idle": "2024-01-18T09:25:12.389783Z",
     "shell.execute_reply": "2024-01-18T09:25:12.388875Z"
    },
    "papermill": {
     "duration": 2.366554,
     "end_time": "2024-01-18T09:25:12.391966",
     "exception": false,
     "start_time": "2024-01-18T09:25:10.025412",
     "status": "completed"
    },
    "tags": []
   },
   "outputs": [
    {
     "data": {
      "text/plain": [
       "array([[0.06871094, 0.1027319 , 0.00157335, 0.49389595, 0.02941529,\n",
       "        0.3036726 ]], dtype=float32)"
      ]
     },
     "execution_count": 6,
     "metadata": {},
     "output_type": "execute_result"
    }
   ],
   "source": [
    "paths=submission['path'].values\n",
    "test_preds=[]\n",
    "for path in paths:\n",
    "    eps=1e-6\n",
    "    data=pd.read_parquet(path)\n",
    "    #这里最小值是0,故用-1填充.第一列是时间列,故去掉 ,行是不同列,列是时间\n",
    "    data = data.fillna(-1).values[:,1:].T\n",
    "    #选取一段时间的数据进行训练\n",
    "    data=data[:,0:300]#(400,300)\n",
    "    data=np.clip(data,np.exp(-6),np.exp(10))#最大值为89209464.0\n",
    "    data= np.log(data)#对数变换\n",
    "    #对数据进行归一化\n",
    "    data_mean=data.mean(axis=(0,1))\n",
    "    data_std=data.std(axis=(0,1))\n",
    "    data=(data-data_mean)/(data_std+eps)\n",
    "    data_tensor = torch.unsqueeze(torch.Tensor(data), dim=0)\n",
    "    data=Config.image_transform(data_tensor)\n",
    "    test_pred=[]\n",
    "    for model in models:\n",
    "        model.eval()\n",
    "        with torch.no_grad():\n",
    "            pred=F.softmax(model(data.unsqueeze(0)))[0]\n",
    "            pred=pred.detach().cpu().numpy()\n",
    "        test_pred.append(pred)\n",
    "    test_pred=np.array(test_pred).mean(axis=0)\n",
    "    test_preds.append(test_pred)\n",
    "test_preds=np.array(test_preds)\n",
    "test_preds"
   ]
  },
  {
   "cell_type": "markdown",
   "id": "bfab35e1",
   "metadata": {
    "papermill": {
     "duration": 0.003803,
     "end_time": "2024-01-18T09:25:12.399870",
     "exception": false,
     "start_time": "2024-01-18T09:25:12.396067",
     "status": "completed"
    },
    "tags": []
   },
   "source": [
    "### Submission"
   ]
  },
  {
   "cell_type": "code",
   "execution_count": 7,
   "id": "68e36ecb",
   "metadata": {
    "execution": {
     "iopub.execute_input": "2024-01-18T09:25:12.409747Z",
     "iopub.status.busy": "2024-01-18T09:25:12.408821Z",
     "iopub.status.idle": "2024-01-18T09:25:12.429082Z",
     "shell.execute_reply": "2024-01-18T09:25:12.427946Z"
    },
    "papermill": {
     "duration": 0.027736,
     "end_time": "2024-01-18T09:25:12.431453",
     "exception": false,
     "start_time": "2024-01-18T09:25:12.403717",
     "status": "completed"
    },
    "tags": []
   },
   "outputs": [
    {
     "data": {
      "text/html": [
       "<div>\n",
       "<style scoped>\n",
       "    .dataframe tbody tr th:only-of-type {\n",
       "        vertical-align: middle;\n",
       "    }\n",
       "\n",
       "    .dataframe tbody tr th {\n",
       "        vertical-align: top;\n",
       "    }\n",
       "\n",
       "    .dataframe thead th {\n",
       "        text-align: right;\n",
       "    }\n",
       "</style>\n",
       "<table border=\"1\" class=\"dataframe\">\n",
       "  <thead>\n",
       "    <tr style=\"text-align: right;\">\n",
       "      <th></th>\n",
       "      <th>eeg_id</th>\n",
       "      <th>seizure_vote</th>\n",
       "      <th>lpd_vote</th>\n",
       "      <th>gpd_vote</th>\n",
       "      <th>lrda_vote</th>\n",
       "      <th>grda_vote</th>\n",
       "      <th>other_vote</th>\n",
       "    </tr>\n",
       "  </thead>\n",
       "  <tbody>\n",
       "    <tr>\n",
       "      <th>0</th>\n",
       "      <td>3911565283</td>\n",
       "      <td>0.068711</td>\n",
       "      <td>0.102732</td>\n",
       "      <td>0.001573</td>\n",
       "      <td>0.493896</td>\n",
       "      <td>0.029415</td>\n",
       "      <td>0.303673</td>\n",
       "    </tr>\n",
       "  </tbody>\n",
       "</table>\n",
       "</div>"
      ],
      "text/plain": [
       "       eeg_id  seizure_vote  lpd_vote  gpd_vote  lrda_vote  grda_vote  \\\n",
       "0  3911565283      0.068711  0.102732  0.001573   0.493896   0.029415   \n",
       "\n",
       "   other_vote  \n",
       "0    0.303673  "
      ]
     },
     "execution_count": 7,
     "metadata": {},
     "output_type": "execute_result"
    }
   ],
   "source": [
    "submission=pd.read_csv(\"/kaggle/input/hms-harmful-brain-activity-classification/sample_submission.csv\")\n",
    "labels=['seizure','lpd','gpd','lrda','grda','other']\n",
    "for i in range(len(labels)):\n",
    "    submission[f'{labels[i]}_vote']=test_preds[:,i]\n",
    "submission.to_csv(\"submission.csv\",index=None)\n",
    "submission.head()"
   ]
  }
 ],
 "metadata": {
  "kaggle": {
   "accelerator": "none",
   "dataSources": [
    {
     "databundleVersionId": 7469972,
     "sourceId": 59093,
     "sourceType": "competition"
    },
    {
     "sourceId": 159396114,
     "sourceType": "kernelVersion"
    }
   ],
   "dockerImageVersionId": 30635,
   "isGpuEnabled": false,
   "isInternetEnabled": false,
   "language": "python",
   "sourceType": "notebook"
  },
  "kernelspec": {
   "display_name": "Python 3",
   "language": "python",
   "name": "python3"
  },
  "language_info": {
   "codemirror_mode": {
    "name": "ipython",
    "version": 3
   },
   "file_extension": ".py",
   "mimetype": "text/x-python",
   "name": "python",
   "nbconvert_exporter": "python",
   "pygments_lexer": "ipython3",
   "version": "3.10.12"
  },
  "papermill": {
   "default_parameters": {},
   "duration": 16.134266,
   "end_time": "2024-01-18T09:25:13.659607",
   "environment_variables": {},
   "exception": null,
   "input_path": "__notebook__.ipynb",
   "output_path": "__notebook__.ipynb",
   "parameters": {},
   "start_time": "2024-01-18T09:24:57.525341",
   "version": "2.4.0"
  }
 },
 "nbformat": 4,
 "nbformat_minor": 5
}
