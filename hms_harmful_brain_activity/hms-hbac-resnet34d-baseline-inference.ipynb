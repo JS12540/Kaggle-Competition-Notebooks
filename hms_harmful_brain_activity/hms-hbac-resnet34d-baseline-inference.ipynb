{
 "cells": [
  {
   "cell_type": "markdown",
   "id": "1923fd3b",
   "metadata": {
    "papermill": {
     "duration": 0.006737,
     "end_time": "2024-01-15T11:07:42.001929",
     "exception": false,
     "start_time": "2024-01-15T11:07:41.995192",
     "status": "completed"
    },
    "tags": []
   },
   "source": [
    "# About\n",
    "\n",
    "In this notebook, I'll share an image clacification approach for given spectrograms.\n",
    "\n",
    "* **version 1**: naive approach\n",
    "* **version 2**: For comparing with [Chris's EfficientNetB2 Starter](https://www.kaggle.com/code/cdeotte/efficientnetb2-starter-lb-0-57), I added **log transform** and **LR scheduling**.\n",
    "\n",
    "This is inference notebook. Training notebook is here:  \n",
    "https://www.kaggle.com/code/ttahara/hms-hbac-resnet34d-baseline-training/"
   ]
  },
  {
   "cell_type": "markdown",
   "id": "a8759205",
   "metadata": {
    "papermill": {
     "duration": 0.006026,
     "end_time": "2024-01-15T11:07:42.014294",
     "exception": false,
     "start_time": "2024-01-15T11:07:42.008268",
     "status": "completed"
    },
    "tags": []
   },
   "source": [
    "# Prepare"
   ]
  },
  {
   "cell_type": "markdown",
   "id": "40e82984",
   "metadata": {
    "papermill": {
     "duration": 0.006026,
     "end_time": "2024-01-15T11:07:42.026532",
     "exception": false,
     "start_time": "2024-01-15T11:07:42.020506",
     "status": "completed"
    },
    "tags": []
   },
   "source": [
    "## Import"
   ]
  },
  {
   "cell_type": "code",
   "execution_count": 1,
   "id": "d3561628",
   "metadata": {
    "_cell_guid": "b1076dfc-b9ad-4769-8c92-a6c4dae69d19",
    "_uuid": "8f2839f25d086af736a60e9eeb907d3b93b6e0e5",
    "execution": {
     "iopub.execute_input": "2024-01-15T11:07:42.040165Z",
     "iopub.status.busy": "2024-01-15T11:07:42.039831Z",
     "iopub.status.idle": "2024-01-15T11:07:49.891906Z",
     "shell.execute_reply": "2024-01-15T11:07:49.890918Z"
    },
    "papermill": {
     "duration": 7.861595,
     "end_time": "2024-01-15T11:07:49.894272",
     "exception": false,
     "start_time": "2024-01-15T11:07:42.032677",
     "status": "completed"
    },
    "tags": []
   },
   "outputs": [
    {
     "name": "stderr",
     "output_type": "stream",
     "text": [
      "/opt/conda/lib/python3.10/site-packages/scipy/__init__.py:146: UserWarning: A NumPy version >=1.16.5 and <1.23.0 is required for this version of SciPy (detected version 1.24.3\n",
      "  warnings.warn(f\"A NumPy version >={np_minversion} and <{np_maxversion}\"\n"
     ]
    }
   ],
   "source": [
    "import sys\n",
    "import os\n",
    "import gc\n",
    "import copy\n",
    "import yaml\n",
    "import random\n",
    "import shutil\n",
    "from time import time\n",
    "import typing as tp\n",
    "from pathlib import Path\n",
    "\n",
    "import numpy as np\n",
    "import pandas as pd\n",
    "\n",
    "from tqdm.notebook import tqdm\n",
    "from sklearn.model_selection import StratifiedGroupKFold\n",
    "\n",
    "import torch\n",
    "from torch import nn\n",
    "from torch import optim\n",
    "from torch.optim import lr_scheduler\n",
    "from torch.cuda import amp\n",
    "\n",
    "import timm\n",
    "\n",
    "import albumentations as A\n",
    "from albumentations.pytorch import ToTensorV2"
   ]
  },
  {
   "cell_type": "code",
   "execution_count": 2,
   "id": "9b521c83",
   "metadata": {
    "execution": {
     "iopub.execute_input": "2024-01-15T11:07:49.908630Z",
     "iopub.status.busy": "2024-01-15T11:07:49.908201Z",
     "iopub.status.idle": "2024-01-15T11:07:49.912349Z",
     "shell.execute_reply": "2024-01-15T11:07:49.911527Z"
    },
    "papermill": {
     "duration": 0.013342,
     "end_time": "2024-01-15T11:07:49.914209",
     "exception": false,
     "start_time": "2024-01-15T11:07:49.900867",
     "status": "completed"
    },
    "tags": []
   },
   "outputs": [],
   "source": [
    "os.environ[\"CUDA_VISIBLE_DEVICES\"] = \"0\""
   ]
  },
  {
   "cell_type": "code",
   "execution_count": 3,
   "id": "eee00cb9",
   "metadata": {
    "execution": {
     "iopub.execute_input": "2024-01-15T11:07:49.927943Z",
     "iopub.status.busy": "2024-01-15T11:07:49.927696Z",
     "iopub.status.idle": "2024-01-15T11:07:49.934781Z",
     "shell.execute_reply": "2024-01-15T11:07:49.934123Z"
    },
    "papermill": {
     "duration": 0.016002,
     "end_time": "2024-01-15T11:07:49.936646",
     "exception": false,
     "start_time": "2024-01-15T11:07:49.920644",
     "status": "completed"
    },
    "tags": []
   },
   "outputs": [],
   "source": [
    "ROOT = Path.cwd().parent\n",
    "INPUT = ROOT / \"input\"\n",
    "OUTPUT = ROOT / \"output\"\n",
    "SRC = ROOT / \"src\"\n",
    "\n",
    "DATA = INPUT / \"hms-harmful-brain-activity-classification\"\n",
    "TRAIN_SPEC = DATA / \"train_spectrograms\"\n",
    "TEST_SPEC = DATA / \"test_spectrograms\"\n",
    "\n",
    "TRAINED_MODEL = INPUT / \"hms-hbac-resnet34d-baseline-exp02\"\n",
    "\n",
    "TMP = ROOT / \"tmp\"\n",
    "TRAIN_SPEC_SPLIT = TMP / \"train_spectrograms_split\"\n",
    "TEST_SPEC_SPLIT = TMP / \"test_spectrograms_split\"\n",
    "TMP.mkdir(exist_ok=True)\n",
    "TRAIN_SPEC_SPLIT.mkdir(exist_ok=True)\n",
    "TEST_SPEC_SPLIT.mkdir(exist_ok=True)\n",
    "\n",
    "\n",
    "RANDAM_SEED = 1086\n",
    "CLASSES = [\"seizure_vote\", \"lpd_vote\", \"gpd_vote\", \"lrda_vote\", \"grda_vote\", \"other_vote\"]\n",
    "N_CLASSES = len(CLASSES)\n",
    "FOLDS = [0, 1, 2, 3, 4]\n",
    "N_FOLDS = len(FOLDS)"
   ]
  },
  {
   "cell_type": "markdown",
   "id": "a6a7a839",
   "metadata": {
    "papermill": {
     "duration": 0.005997,
     "end_time": "2024-01-15T11:07:49.949005",
     "exception": false,
     "start_time": "2024-01-15T11:07:49.943008",
     "status": "completed"
    },
    "tags": []
   },
   "source": [
    "## Read Data, Convert Spectrograms to Numpy file"
   ]
  },
  {
   "cell_type": "code",
   "execution_count": 4,
   "id": "db5f90fc",
   "metadata": {
    "execution": {
     "iopub.execute_input": "2024-01-15T11:07:49.962473Z",
     "iopub.status.busy": "2024-01-15T11:07:49.962231Z",
     "iopub.status.idle": "2024-01-15T11:07:49.975870Z",
     "shell.execute_reply": "2024-01-15T11:07:49.975228Z"
    },
    "papermill": {
     "duration": 0.022522,
     "end_time": "2024-01-15T11:07:49.977767",
     "exception": false,
     "start_time": "2024-01-15T11:07:49.955245",
     "status": "completed"
    },
    "tags": []
   },
   "outputs": [],
   "source": [
    "test = pd.read_csv(DATA / \"test.csv\")"
   ]
  },
  {
   "cell_type": "code",
   "execution_count": 5,
   "id": "288a11cb",
   "metadata": {
    "execution": {
     "iopub.execute_input": "2024-01-15T11:07:49.991136Z",
     "iopub.status.busy": "2024-01-15T11:07:49.990863Z",
     "iopub.status.idle": "2024-01-15T11:07:50.004879Z",
     "shell.execute_reply": "2024-01-15T11:07:50.004041Z"
    },
    "papermill": {
     "duration": 0.022819,
     "end_time": "2024-01-15T11:07:50.006825",
     "exception": false,
     "start_time": "2024-01-15T11:07:49.984006",
     "status": "completed"
    },
    "tags": []
   },
   "outputs": [
    {
     "data": {
      "text/html": [
       "<div>\n",
       "<style scoped>\n",
       "    .dataframe tbody tr th:only-of-type {\n",
       "        vertical-align: middle;\n",
       "    }\n",
       "\n",
       "    .dataframe tbody tr th {\n",
       "        vertical-align: top;\n",
       "    }\n",
       "\n",
       "    .dataframe thead th {\n",
       "        text-align: right;\n",
       "    }\n",
       "</style>\n",
       "<table border=\"1\" class=\"dataframe\">\n",
       "  <thead>\n",
       "    <tr style=\"text-align: right;\">\n",
       "      <th></th>\n",
       "      <th>spectrogram_id</th>\n",
       "      <th>eeg_id</th>\n",
       "      <th>patient_id</th>\n",
       "    </tr>\n",
       "  </thead>\n",
       "  <tbody>\n",
       "    <tr>\n",
       "      <th>0</th>\n",
       "      <td>853520</td>\n",
       "      <td>3911565283</td>\n",
       "      <td>6885</td>\n",
       "    </tr>\n",
       "  </tbody>\n",
       "</table>\n",
       "</div>"
      ],
      "text/plain": [
       "   spectrogram_id      eeg_id  patient_id\n",
       "0          853520  3911565283        6885"
      ]
     },
     "execution_count": 5,
     "metadata": {},
     "output_type": "execute_result"
    }
   ],
   "source": [
    "test.head()"
   ]
  },
  {
   "cell_type": "markdown",
   "id": "9a9b0cec",
   "metadata": {
    "papermill": {
     "duration": 0.00619,
     "end_time": "2024-01-15T11:07:50.019556",
     "exception": false,
     "start_time": "2024-01-15T11:07:50.013366",
     "status": "completed"
    },
    "tags": []
   },
   "source": [
    "### convert sepectogram files to numpy files"
   ]
  },
  {
   "cell_type": "code",
   "execution_count": 6,
   "id": "7d963358",
   "metadata": {
    "execution": {
     "iopub.execute_input": "2024-01-15T11:07:50.034474Z",
     "iopub.status.busy": "2024-01-15T11:07:50.034204Z",
     "iopub.status.idle": "2024-01-15T11:07:50.212219Z",
     "shell.execute_reply": "2024-01-15T11:07:50.211437Z"
    },
    "papermill": {
     "duration": 0.188461,
     "end_time": "2024-01-15T11:07:50.214386",
     "exception": false,
     "start_time": "2024-01-15T11:07:50.025925",
     "status": "completed"
    },
    "tags": []
   },
   "outputs": [],
   "source": [
    "for spec_id in test[\"spectrogram_id\"]:\n",
    "    spec = pd.read_parquet(TEST_SPEC / f\"{spec_id}.parquet\")\n",
    "    \n",
    "    spec_arr = spec.fillna(0).values[:, 1:].T.astype(\"float32\")  # (Hz, Time) = (400, 300)\n",
    "    \n",
    "    np.save(TEST_SPEC_SPLIT / f\"{spec_id}.npy\", spec_arr)"
   ]
  },
  {
   "cell_type": "markdown",
   "id": "9fed99a6",
   "metadata": {
    "papermill": {
     "duration": 0.006563,
     "end_time": "2024-01-15T11:07:50.227772",
     "exception": false,
     "start_time": "2024-01-15T11:07:50.221209",
     "status": "completed"
    },
    "tags": []
   },
   "source": [
    "## Difinition, Model, Dataset"
   ]
  },
  {
   "cell_type": "markdown",
   "id": "5e010f2a",
   "metadata": {
    "papermill": {
     "duration": 0.006224,
     "end_time": "2024-01-15T11:07:50.240445",
     "exception": false,
     "start_time": "2024-01-15T11:07:50.234221",
     "status": "completed"
    },
    "tags": []
   },
   "source": [
    "### model"
   ]
  },
  {
   "cell_type": "code",
   "execution_count": 7,
   "id": "a7c820b5",
   "metadata": {
    "execution": {
     "iopub.execute_input": "2024-01-15T11:07:50.254662Z",
     "iopub.status.busy": "2024-01-15T11:07:50.254360Z",
     "iopub.status.idle": "2024-01-15T11:07:50.260029Z",
     "shell.execute_reply": "2024-01-15T11:07:50.259307Z"
    },
    "papermill": {
     "duration": 0.014973,
     "end_time": "2024-01-15T11:07:50.261913",
     "exception": false,
     "start_time": "2024-01-15T11:07:50.246940",
     "status": "completed"
    },
    "tags": []
   },
   "outputs": [],
   "source": [
    "class HMSHBACSpecModel(nn.Module):\n",
    "\n",
    "    def __init__(\n",
    "            self,\n",
    "            model_name: str,\n",
    "            pretrained: bool,\n",
    "            in_channels: int,\n",
    "            num_classes: int,\n",
    "        ):\n",
    "        super().__init__()\n",
    "        self.model = timm.create_model(\n",
    "            model_name=model_name, pretrained=pretrained,\n",
    "            num_classes=num_classes, in_chans=in_channels)\n",
    "\n",
    "    def forward(self, x):\n",
    "        h = self.model(x)      \n",
    "\n",
    "        return h"
   ]
  },
  {
   "cell_type": "markdown",
   "id": "08fdf5d1",
   "metadata": {
    "papermill": {
     "duration": 0.006178,
     "end_time": "2024-01-15T11:07:50.274473",
     "exception": false,
     "start_time": "2024-01-15T11:07:50.268295",
     "status": "completed"
    },
    "tags": []
   },
   "source": [
    "## dataset"
   ]
  },
  {
   "cell_type": "code",
   "execution_count": 8,
   "id": "78833e4a",
   "metadata": {
    "execution": {
     "iopub.execute_input": "2024-01-15T11:07:50.288444Z",
     "iopub.status.busy": "2024-01-15T11:07:50.288167Z",
     "iopub.status.idle": "2024-01-15T11:07:50.298092Z",
     "shell.execute_reply": "2024-01-15T11:07:50.297255Z"
    },
    "papermill": {
     "duration": 0.019179,
     "end_time": "2024-01-15T11:07:50.300012",
     "exception": false,
     "start_time": "2024-01-15T11:07:50.280833",
     "status": "completed"
    },
    "tags": []
   },
   "outputs": [],
   "source": [
    "FilePath = tp.Union[str, Path]\n",
    "Label = tp.Union[int, float, np.ndarray]\n",
    "\n",
    "class HMSHBACSpecDataset(torch.utils.data.Dataset):\n",
    "\n",
    "    def __init__(\n",
    "        self,\n",
    "        image_paths: tp.Sequence[FilePath],\n",
    "        labels: tp.Sequence[Label],\n",
    "        transform: A.Compose,\n",
    "    ):\n",
    "        self.image_paths = image_paths\n",
    "        self.labels = labels\n",
    "        self.transform = transform\n",
    "\n",
    "    def __len__(self):\n",
    "        return len(self.image_paths)\n",
    "\n",
    "    def __getitem__(self, index: int):\n",
    "        img_path = self.image_paths[index]\n",
    "        label = self.labels[index]\n",
    "\n",
    "        img = np.load(img_path)  # shape: (Hz, Time) = (400, 300)\n",
    "        \n",
    "        # log transform\n",
    "        img = np.clip(img,np.exp(-4), np.exp(8))\n",
    "        img = np.log(img)\n",
    "        \n",
    "        # normalize per image\n",
    "        eps = 1e-6\n",
    "        img_mean = img.mean(axis=(0, 1))\n",
    "        img = img - img_mean\n",
    "        img_std = img.std(axis=(0, 1))\n",
    "        img = img / (img_std + eps)\n",
    "\n",
    "        img = img[..., None] # shape: (Hz, Time) -> (Hz, Time, Channel)\n",
    "        img = self._apply_transform(img)\n",
    "\n",
    "        return {\"data\": img, \"target\": label}\n",
    "\n",
    "    def _apply_transform(self, img: np.ndarray):\n",
    "        \"\"\"apply transform to image and mask\"\"\"\n",
    "        transformed = self.transform(image=img)\n",
    "        img = transformed[\"image\"]\n",
    "        return img"
   ]
  },
  {
   "cell_type": "markdown",
   "id": "dfd9f2b3",
   "metadata": {
    "papermill": {
     "duration": 0.006224,
     "end_time": "2024-01-15T11:07:50.312720",
     "exception": false,
     "start_time": "2024-01-15T11:07:50.306496",
     "status": "completed"
    },
    "tags": []
   },
   "source": [
    "# Inference Test Data"
   ]
  },
  {
   "cell_type": "code",
   "execution_count": 9,
   "id": "3e21587c",
   "metadata": {
    "execution": {
     "iopub.execute_input": "2024-01-15T11:07:50.326681Z",
     "iopub.status.busy": "2024-01-15T11:07:50.326411Z",
     "iopub.status.idle": "2024-01-15T11:07:50.331004Z",
     "shell.execute_reply": "2024-01-15T11:07:50.330214Z"
    },
    "papermill": {
     "duration": 0.013766,
     "end_time": "2024-01-15T11:07:50.332906",
     "exception": false,
     "start_time": "2024-01-15T11:07:50.319140",
     "status": "completed"
    },
    "tags": []
   },
   "outputs": [],
   "source": [
    "class CFG:\n",
    "    model_name = \"resnet34d\"\n",
    "    img_size = 512\n",
    "    max_epoch = 9\n",
    "    batch_size = 32\n",
    "    lr = 1.0e-03\n",
    "    weight_decay = 1.0e-02\n",
    "    es_patience =  5\n",
    "    seed = 1086\n",
    "    deterministic = True\n",
    "    enable_amp = True\n",
    "    device = \"cuda\""
   ]
  },
  {
   "cell_type": "code",
   "execution_count": 10,
   "id": "299d15db",
   "metadata": {
    "execution": {
     "iopub.execute_input": "2024-01-15T11:07:50.347036Z",
     "iopub.status.busy": "2024-01-15T11:07:50.346757Z",
     "iopub.status.idle": "2024-01-15T11:07:50.355562Z",
     "shell.execute_reply": "2024-01-15T11:07:50.354875Z"
    },
    "papermill": {
     "duration": 0.017974,
     "end_time": "2024-01-15T11:07:50.357512",
     "exception": false,
     "start_time": "2024-01-15T11:07:50.339538",
     "status": "completed"
    },
    "tags": []
   },
   "outputs": [],
   "source": [
    "def to_device(\n",
    "    tensors: tp.Union[tp.Tuple[torch.Tensor], tp.Dict[str, torch.Tensor]],\n",
    "    device: torch.device, *args, **kwargs\n",
    "):\n",
    "    if isinstance(tensors, tuple):\n",
    "        return (t.to(device, *args, **kwargs) for t in tensors)\n",
    "    elif isinstance(tensors, dict):\n",
    "        return {\n",
    "            k: t.to(device, *args, **kwargs) for k, t in tensors.items()}\n",
    "    else:\n",
    "        return tensors.to(device, *args, **kwargs)\n",
    "\n",
    "    \n",
    "def get_test_path_label(test: pd.DataFrame):\n",
    "    \"\"\"Get file path and dummy target info.\"\"\"\n",
    "    \n",
    "    img_paths = []\n",
    "    labels = np.full((len(test), 6), -1, dtype=\"float32\")\n",
    "    for spec_id in test[\"spectrogram_id\"].values:\n",
    "        img_path = TEST_SPEC_SPLIT / f\"{spec_id}.npy\"\n",
    "        img_paths.append(img_path)\n",
    "        \n",
    "    test_data = {\n",
    "        \"image_paths\": img_paths,\n",
    "        \"labels\": [l for l in labels]}\n",
    "    \n",
    "    return test_data\n",
    "\n",
    "def get_test_transforms(CFG):\n",
    "    test_transform = A.Compose([\n",
    "        A.Resize(p=1.0, height=CFG.img_size, width=CFG.img_size),\n",
    "        ToTensorV2(p=1.0)\n",
    "    ])\n",
    "    return test_transform"
   ]
  },
  {
   "cell_type": "code",
   "execution_count": 11,
   "id": "9b8b7f83",
   "metadata": {
    "execution": {
     "iopub.execute_input": "2024-01-15T11:07:50.371637Z",
     "iopub.status.busy": "2024-01-15T11:07:50.371377Z",
     "iopub.status.idle": "2024-01-15T11:07:50.376813Z",
     "shell.execute_reply": "2024-01-15T11:07:50.376114Z"
    },
    "papermill": {
     "duration": 0.01454,
     "end_time": "2024-01-15T11:07:50.378746",
     "exception": false,
     "start_time": "2024-01-15T11:07:50.364206",
     "status": "completed"
    },
    "tags": []
   },
   "outputs": [],
   "source": [
    "def run_inference_loop(model, loader, device):\n",
    "    model.to(device)\n",
    "    model.eval()\n",
    "    pred_list = []\n",
    "    with torch.no_grad():\n",
    "        for batch in tqdm(loader):\n",
    "            x = to_device(batch[\"data\"], device)\n",
    "            y = model(x)\n",
    "            pred_list.append(y.softmax(dim=1).detach().cpu().numpy())\n",
    "        \n",
    "    pred_arr = np.concatenate(pred_list)\n",
    "    del pred_list\n",
    "    return pred_arr"
   ]
  },
  {
   "cell_type": "code",
   "execution_count": 12,
   "id": "73930502",
   "metadata": {
    "execution": {
     "iopub.execute_input": "2024-01-15T11:07:50.392737Z",
     "iopub.status.busy": "2024-01-15T11:07:50.392496Z",
     "iopub.status.idle": "2024-01-15T11:07:58.293606Z",
     "shell.execute_reply": "2024-01-15T11:07:58.292766Z"
    },
    "papermill": {
     "duration": 7.910815,
     "end_time": "2024-01-15T11:07:58.296049",
     "exception": false,
     "start_time": "2024-01-15T11:07:50.385234",
     "status": "completed"
    },
    "tags": []
   },
   "outputs": [
    {
     "name": "stdout",
     "output_type": "stream",
     "text": [
      "\n",
      "[fold 0]\n"
     ]
    },
    {
     "data": {
      "application/vnd.jupyter.widget-view+json": {
       "model_id": "3152573b0fed41058df6932f2e7a50fb",
       "version_major": 2,
       "version_minor": 0
      },
      "text/plain": [
       "  0%|          | 0/1 [00:00<?, ?it/s]"
      ]
     },
     "metadata": {},
     "output_type": "display_data"
    },
    {
     "name": "stdout",
     "output_type": "stream",
     "text": [
      "\n",
      "[fold 1]\n"
     ]
    },
    {
     "data": {
      "application/vnd.jupyter.widget-view+json": {
       "model_id": "9859e1b78d214264a7076a91d3ac83d0",
       "version_major": 2,
       "version_minor": 0
      },
      "text/plain": [
       "  0%|          | 0/1 [00:00<?, ?it/s]"
      ]
     },
     "metadata": {},
     "output_type": "display_data"
    },
    {
     "name": "stdout",
     "output_type": "stream",
     "text": [
      "\n",
      "[fold 2]\n"
     ]
    },
    {
     "data": {
      "application/vnd.jupyter.widget-view+json": {
       "model_id": "a3d82903329b4e629bd08000245d25d8",
       "version_major": 2,
       "version_minor": 0
      },
      "text/plain": [
       "  0%|          | 0/1 [00:00<?, ?it/s]"
      ]
     },
     "metadata": {},
     "output_type": "display_data"
    },
    {
     "name": "stdout",
     "output_type": "stream",
     "text": [
      "\n",
      "[fold 3]\n"
     ]
    },
    {
     "data": {
      "application/vnd.jupyter.widget-view+json": {
       "model_id": "306d2bfa889c4f1a9e5aad0c1f587328",
       "version_major": 2,
       "version_minor": 0
      },
      "text/plain": [
       "  0%|          | 0/1 [00:00<?, ?it/s]"
      ]
     },
     "metadata": {},
     "output_type": "display_data"
    },
    {
     "name": "stdout",
     "output_type": "stream",
     "text": [
      "\n",
      "[fold 4]\n"
     ]
    },
    {
     "data": {
      "application/vnd.jupyter.widget-view+json": {
       "model_id": "b60cc611467e4e0ab0e52bc48c6bcb36",
       "version_major": 2,
       "version_minor": 0
      },
      "text/plain": [
       "  0%|          | 0/1 [00:00<?, ?it/s]"
      ]
     },
     "metadata": {},
     "output_type": "display_data"
    }
   ],
   "source": [
    "test_preds_arr = np.zeros((N_FOLDS, len(test), N_CLASSES))\n",
    "\n",
    "test_path_label = get_test_path_label(test)\n",
    "test_transform = get_test_transforms(CFG)\n",
    "test_dataset = HMSHBACSpecDataset(**test_path_label, transform=test_transform)\n",
    "test_loader = torch.utils.data.DataLoader(\n",
    "    test_dataset, batch_size=CFG.batch_size, num_workers=4, shuffle=False, drop_last=False)\n",
    "\n",
    "device = torch.device(CFG.device)\n",
    "\n",
    "for fold_id in range(N_FOLDS):\n",
    "    print(f\"\\n[fold {fold_id}]\")\n",
    "    \n",
    "    # # get model\n",
    "    model_path = TRAINED_MODEL / f\"best_model_fold{fold_id}.pth\"\n",
    "    model = HMSHBACSpecModel(\n",
    "        model_name=CFG.model_name, pretrained=False, num_classes=6, in_channels=1)\n",
    "    model.load_state_dict(torch.load(model_path, map_location=device))\n",
    "    \n",
    "    # # inference\n",
    "    test_pred = run_inference_loop(model, test_loader, device)\n",
    "    test_preds_arr[fold_id] = test_pred\n",
    "    \n",
    "    del model\n",
    "    torch.cuda.empty_cache()\n",
    "    gc.collect()"
   ]
  },
  {
   "cell_type": "markdown",
   "id": "bdb7e914",
   "metadata": {
    "papermill": {
     "duration": 0.0076,
     "end_time": "2024-01-15T11:07:58.311772",
     "exception": false,
     "start_time": "2024-01-15T11:07:58.304172",
     "status": "completed"
    },
    "tags": []
   },
   "source": [
    "# Make Submission"
   ]
  },
  {
   "cell_type": "code",
   "execution_count": 13,
   "id": "39d42cae",
   "metadata": {
    "execution": {
     "iopub.execute_input": "2024-01-15T11:07:58.328305Z",
     "iopub.status.busy": "2024-01-15T11:07:58.327994Z",
     "iopub.status.idle": "2024-01-15T11:07:58.337258Z",
     "shell.execute_reply": "2024-01-15T11:07:58.336377Z"
    },
    "papermill": {
     "duration": 0.01972,
     "end_time": "2024-01-15T11:07:58.339086",
     "exception": false,
     "start_time": "2024-01-15T11:07:58.319366",
     "status": "completed"
    },
    "tags": []
   },
   "outputs": [],
   "source": [
    "test_pred = test_preds_arr.mean(axis=0)\n",
    "\n",
    "test_pred_df = pd.DataFrame(\n",
    "    test_pred, columns=CLASSES\n",
    ")\n",
    "\n",
    "test_pred_df = pd.concat([test[[\"eeg_id\"]], test_pred_df], axis=1)"
   ]
  },
  {
   "cell_type": "code",
   "execution_count": 14,
   "id": "3d6a2991",
   "metadata": {
    "execution": {
     "iopub.execute_input": "2024-01-15T11:07:58.355924Z",
     "iopub.status.busy": "2024-01-15T11:07:58.355386Z",
     "iopub.status.idle": "2024-01-15T11:07:58.379691Z",
     "shell.execute_reply": "2024-01-15T11:07:58.378880Z"
    },
    "papermill": {
     "duration": 0.034982,
     "end_time": "2024-01-15T11:07:58.381672",
     "exception": false,
     "start_time": "2024-01-15T11:07:58.346690",
     "status": "completed"
    },
    "tags": []
   },
   "outputs": [
    {
     "data": {
      "text/html": [
       "<div>\n",
       "<style scoped>\n",
       "    .dataframe tbody tr th:only-of-type {\n",
       "        vertical-align: middle;\n",
       "    }\n",
       "\n",
       "    .dataframe tbody tr th {\n",
       "        vertical-align: top;\n",
       "    }\n",
       "\n",
       "    .dataframe thead th {\n",
       "        text-align: right;\n",
       "    }\n",
       "</style>\n",
       "<table border=\"1\" class=\"dataframe\">\n",
       "  <thead>\n",
       "    <tr style=\"text-align: right;\">\n",
       "      <th></th>\n",
       "      <th>eeg_id</th>\n",
       "      <th>seizure_vote</th>\n",
       "      <th>lpd_vote</th>\n",
       "      <th>gpd_vote</th>\n",
       "      <th>lrda_vote</th>\n",
       "      <th>grda_vote</th>\n",
       "      <th>other_vote</th>\n",
       "    </tr>\n",
       "  </thead>\n",
       "  <tbody>\n",
       "    <tr>\n",
       "      <th>0</th>\n",
       "      <td>3911565283</td>\n",
       "      <td>0.020114</td>\n",
       "      <td>0.113317</td>\n",
       "      <td>0.000733</td>\n",
       "      <td>0.307661</td>\n",
       "      <td>0.01935</td>\n",
       "      <td>0.538826</td>\n",
       "    </tr>\n",
       "  </tbody>\n",
       "</table>\n",
       "</div>"
      ],
      "text/plain": [
       "       eeg_id  seizure_vote  lpd_vote  gpd_vote  lrda_vote  grda_vote  \\\n",
       "0  3911565283      0.020114  0.113317  0.000733   0.307661    0.01935   \n",
       "\n",
       "   other_vote  \n",
       "0    0.538826  "
      ]
     },
     "execution_count": 14,
     "metadata": {},
     "output_type": "execute_result"
    }
   ],
   "source": [
    "smpl_sub = pd.read_csv(DATA / \"sample_submission.csv\")\n",
    "\n",
    "sub = pd.merge(\n",
    "    smpl_sub[[\"eeg_id\"]], test_pred_df, on=\"eeg_id\", how=\"left\")\n",
    "\n",
    "sub.to_csv(\"submission.csv\", index=False)\n",
    "\n",
    "sub.head()"
   ]
  },
  {
   "cell_type": "markdown",
   "id": "0b04ac85",
   "metadata": {
    "papermill": {
     "duration": 0.007662,
     "end_time": "2024-01-15T11:07:58.397363",
     "exception": false,
     "start_time": "2024-01-15T11:07:58.389701",
     "status": "completed"
    },
    "tags": []
   },
   "source": [
    "# EOF"
   ]
  }
 ],
 "metadata": {
  "kaggle": {
   "accelerator": "gpu",
   "dataSources": [
    {
     "databundleVersionId": 7469972,
     "sourceId": 59093,
     "sourceType": "competition"
    },
    {
     "datasetId": 4306203,
     "sourceId": 7406001,
     "sourceType": "datasetVersion"
    }
   ],
   "dockerImageVersionId": 30636,
   "isGpuEnabled": true,
   "isInternetEnabled": false,
   "language": "python",
   "sourceType": "notebook"
  },
  "kernelspec": {
   "display_name": "Python 3",
   "language": "python",
   "name": "python3"
  },
  "language_info": {
   "codemirror_mode": {
    "name": "ipython",
    "version": 3
   },
   "file_extension": ".py",
   "mimetype": "text/x-python",
   "name": "python",
   "nbconvert_exporter": "python",
   "pygments_lexer": "ipython3",
   "version": "3.10.12"
  },
  "papermill": {
   "default_parameters": {},
   "duration": 21.455624,
   "end_time": "2024-01-15T11:08:00.128724",
   "environment_variables": {},
   "exception": null,
   "input_path": "__notebook__.ipynb",
   "output_path": "__notebook__.ipynb",
   "parameters": {},
   "start_time": "2024-01-15T11:07:38.673100",
   "version": "2.4.0"
  },
  "widgets": {
   "application/vnd.jupyter.widget-state+json": {
    "state": {
     "0a1a9b4e162b46568681e1b20d4fae94": {
      "model_module": "@jupyter-widgets/controls",
      "model_module_version": "1.5.0",
      "model_name": "ProgressStyleModel",
      "state": {
       "_model_module": "@jupyter-widgets/controls",
       "_model_module_version": "1.5.0",
       "_model_name": "ProgressStyleModel",
       "_view_count": null,
       "_view_module": "@jupyter-widgets/base",
       "_view_module_version": "1.2.0",
       "_view_name": "StyleView",
       "bar_color": null,
       "description_width": ""
      }
     },
     "0fa0b5d482ad43548b640502a6f1bf98": {
      "model_module": "@jupyter-widgets/controls",
      "model_module_version": "1.5.0",
      "model_name": "HTMLModel",
      "state": {
       "_dom_classes": [],
       "_model_module": "@jupyter-widgets/controls",
       "_model_module_version": "1.5.0",
       "_model_name": "HTMLModel",
       "_view_count": null,
       "_view_module": "@jupyter-widgets/controls",
       "_view_module_version": "1.5.0",
       "_view_name": "HTMLView",
       "description": "",
       "description_tooltip": null,
       "layout": "IPY_MODEL_449d878897934e338f0fdd132cc060b1",
       "placeholder": "​",
       "style": "IPY_MODEL_46843dedd55f4adf9de46dc96c59da48",
       "value": " 1/1 [00:00&lt;00:00,  9.85it/s]"
      }
     },
     "17fbd8637eb64fdea67f3d9ab5d3d0cd": {
      "model_module": "@jupyter-widgets/controls",
      "model_module_version": "1.5.0",
      "model_name": "DescriptionStyleModel",
      "state": {
       "_model_module": "@jupyter-widgets/controls",
       "_model_module_version": "1.5.0",
       "_model_name": "DescriptionStyleModel",
       "_view_count": null,
       "_view_module": "@jupyter-widgets/base",
       "_view_module_version": "1.2.0",
       "_view_name": "StyleView",
       "description_width": ""
      }
     },
     "22e1f76b729f4361bf303404bef39c0c": {
      "model_module": "@jupyter-widgets/controls",
      "model_module_version": "1.5.0",
      "model_name": "HTMLModel",
      "state": {
       "_dom_classes": [],
       "_model_module": "@jupyter-widgets/controls",
       "_model_module_version": "1.5.0",
       "_model_name": "HTMLModel",
       "_view_count": null,
       "_view_module": "@jupyter-widgets/controls",
       "_view_module_version": "1.5.0",
       "_view_name": "HTMLView",
       "description": "",
       "description_tooltip": null,
       "layout": "IPY_MODEL_be072cd5c7e94773a8e041c916900dee",
       "placeholder": "​",
       "style": "IPY_MODEL_c4534939394c40048c636d442126a0ea",
       "value": " 1/1 [00:00&lt;00:00,  1.27it/s]"
      }
     },
     "2dada017ab72424f9030d88ab96baef6": {
      "model_module": "@jupyter-widgets/base",
      "model_module_version": "1.2.0",
      "model_name": "LayoutModel",
      "state": {
       "_model_module": "@jupyter-widgets/base",
       "_model_module_version": "1.2.0",
       "_model_name": "LayoutModel",
       "_view_count": null,
       "_view_module": "@jupyter-widgets/base",
       "_view_module_version": "1.2.0",
       "_view_name": "LayoutView",
       "align_content": null,
       "align_items": null,
       "align_self": null,
       "border": null,
       "bottom": null,
       "display": null,
       "flex": null,
       "flex_flow": null,
       "grid_area": null,
       "grid_auto_columns": null,
       "grid_auto_flow": null,
       "grid_auto_rows": null,
       "grid_column": null,
       "grid_gap": null,
       "grid_row": null,
       "grid_template_areas": null,
       "grid_template_columns": null,
       "grid_template_rows": null,
       "height": null,
       "justify_content": null,
       "justify_items": null,
       "left": null,
       "margin": null,
       "max_height": null,
       "max_width": null,
       "min_height": null,
       "min_width": null,
       "object_fit": null,
       "object_position": null,
       "order": null,
       "overflow": null,
       "overflow_x": null,
       "overflow_y": null,
       "padding": null,
       "right": null,
       "top": null,
       "visibility": null,
       "width": null
      }
     },
     "306d2bfa889c4f1a9e5aad0c1f587328": {
      "model_module": "@jupyter-widgets/controls",
      "model_module_version": "1.5.0",
      "model_name": "HBoxModel",
      "state": {
       "_dom_classes": [],
       "_model_module": "@jupyter-widgets/controls",
       "_model_module_version": "1.5.0",
       "_model_name": "HBoxModel",
       "_view_count": null,
       "_view_module": "@jupyter-widgets/controls",
       "_view_module_version": "1.5.0",
       "_view_name": "HBoxView",
       "box_style": "",
       "children": [
        "IPY_MODEL_8474346e168341f0a710266376931ec3",
        "IPY_MODEL_8f148016e6d24200993a6f572ad5c63d",
        "IPY_MODEL_c30e89fb04f146769ff33212f608e685"
       ],
       "layout": "IPY_MODEL_2dada017ab72424f9030d88ab96baef6"
      }
     },
     "3152573b0fed41058df6932f2e7a50fb": {
      "model_module": "@jupyter-widgets/controls",
      "model_module_version": "1.5.0",
      "model_name": "HBoxModel",
      "state": {
       "_dom_classes": [],
       "_model_module": "@jupyter-widgets/controls",
       "_model_module_version": "1.5.0",
       "_model_name": "HBoxModel",
       "_view_count": null,
       "_view_module": "@jupyter-widgets/controls",
       "_view_module_version": "1.5.0",
       "_view_name": "HBoxView",
       "box_style": "",
       "children": [
        "IPY_MODEL_86d846d44a074f89a0713b4809925a4c",
        "IPY_MODEL_d621e02871614d96a82dff8f2d365499",
        "IPY_MODEL_22e1f76b729f4361bf303404bef39c0c"
       ],
       "layout": "IPY_MODEL_3dd873e4107f4ffbb6cd6c2f0af6fbd2"
      }
     },
     "326529531bf34b63bfd777fcbcb0e266": {
      "model_module": "@jupyter-widgets/base",
      "model_module_version": "1.2.0",
      "model_name": "LayoutModel",
      "state": {
       "_model_module": "@jupyter-widgets/base",
       "_model_module_version": "1.2.0",
       "_model_name": "LayoutModel",
       "_view_count": null,
       "_view_module": "@jupyter-widgets/base",
       "_view_module_version": "1.2.0",
       "_view_name": "LayoutView",
       "align_content": null,
       "align_items": null,
       "align_self": null,
       "border": null,
       "bottom": null,
       "display": null,
       "flex": null,
       "flex_flow": null,
       "grid_area": null,
       "grid_auto_columns": null,
       "grid_auto_flow": null,
       "grid_auto_rows": null,
       "grid_column": null,
       "grid_gap": null,
       "grid_row": null,
       "grid_template_areas": null,
       "grid_template_columns": null,
       "grid_template_rows": null,
       "height": null,
       "justify_content": null,
       "justify_items": null,
       "left": null,
       "margin": null,
       "max_height": null,
       "max_width": null,
       "min_height": null,
       "min_width": null,
       "object_fit": null,
       "object_position": null,
       "order": null,
       "overflow": null,
       "overflow_x": null,
       "overflow_y": null,
       "padding": null,
       "right": null,
       "top": null,
       "visibility": null,
       "width": null
      }
     },
     "3dd873e4107f4ffbb6cd6c2f0af6fbd2": {
      "model_module": "@jupyter-widgets/base",
      "model_module_version": "1.2.0",
      "model_name": "LayoutModel",
      "state": {
       "_model_module": "@jupyter-widgets/base",
       "_model_module_version": "1.2.0",
       "_model_name": "LayoutModel",
       "_view_count": null,
       "_view_module": "@jupyter-widgets/base",
       "_view_module_version": "1.2.0",
       "_view_name": "LayoutView",
       "align_content": null,
       "align_items": null,
       "align_self": null,
       "border": null,
       "bottom": null,
       "display": null,
       "flex": null,
       "flex_flow": null,
       "grid_area": null,
       "grid_auto_columns": null,
       "grid_auto_flow": null,
       "grid_auto_rows": null,
       "grid_column": null,
       "grid_gap": null,
       "grid_row": null,
       "grid_template_areas": null,
       "grid_template_columns": null,
       "grid_template_rows": null,
       "height": null,
       "justify_content": null,
       "justify_items": null,
       "left": null,
       "margin": null,
       "max_height": null,
       "max_width": null,
       "min_height": null,
       "min_width": null,
       "object_fit": null,
       "object_position": null,
       "order": null,
       "overflow": null,
       "overflow_x": null,
       "overflow_y": null,
       "padding": null,
       "right": null,
       "top": null,
       "visibility": null,
       "width": null
      }
     },
     "3ed6202641dc437b9d81932ccdfd51dd": {
      "model_module": "@jupyter-widgets/controls",
      "model_module_version": "1.5.0",
      "model_name": "ProgressStyleModel",
      "state": {
       "_model_module": "@jupyter-widgets/controls",
       "_model_module_version": "1.5.0",
       "_model_name": "ProgressStyleModel",
       "_view_count": null,
       "_view_module": "@jupyter-widgets/base",
       "_view_module_version": "1.2.0",
       "_view_name": "StyleView",
       "bar_color": null,
       "description_width": ""
      }
     },
     "413702e08d3c44e6828e26f6a17caa9e": {
      "model_module": "@jupyter-widgets/controls",
      "model_module_version": "1.5.0",
      "model_name": "HTMLModel",
      "state": {
       "_dom_classes": [],
       "_model_module": "@jupyter-widgets/controls",
       "_model_module_version": "1.5.0",
       "_model_name": "HTMLModel",
       "_view_count": null,
       "_view_module": "@jupyter-widgets/controls",
       "_view_module_version": "1.5.0",
       "_view_name": "HTMLView",
       "description": "",
       "description_tooltip": null,
       "layout": "IPY_MODEL_db645dab45634069a618453d69d63200",
       "placeholder": "​",
       "style": "IPY_MODEL_b2c1dc6f1a4f4452ac36d271a075fc2e",
       "value": "100%"
      }
     },
     "43893a0225fe4a248fed957d386547f8": {
      "model_module": "@jupyter-widgets/controls",
      "model_module_version": "1.5.0",
      "model_name": "HTMLModel",
      "state": {
       "_dom_classes": [],
       "_model_module": "@jupyter-widgets/controls",
       "_model_module_version": "1.5.0",
       "_model_name": "HTMLModel",
       "_view_count": null,
       "_view_module": "@jupyter-widgets/controls",
       "_view_module_version": "1.5.0",
       "_view_name": "HTMLView",
       "description": "",
       "description_tooltip": null,
       "layout": "IPY_MODEL_8ecc626c54e94e5e94b7e36703ceaddd",
       "placeholder": "​",
       "style": "IPY_MODEL_4dc68cca7fcf4e20b0e20fa2bdabcb66",
       "value": " 1/1 [00:00&lt;00:00,  9.02it/s]"
      }
     },
     "449d878897934e338f0fdd132cc060b1": {
      "model_module": "@jupyter-widgets/base",
      "model_module_version": "1.2.0",
      "model_name": "LayoutModel",
      "state": {
       "_model_module": "@jupyter-widgets/base",
       "_model_module_version": "1.2.0",
       "_model_name": "LayoutModel",
       "_view_count": null,
       "_view_module": "@jupyter-widgets/base",
       "_view_module_version": "1.2.0",
       "_view_name": "LayoutView",
       "align_content": null,
       "align_items": null,
       "align_self": null,
       "border": null,
       "bottom": null,
       "display": null,
       "flex": null,
       "flex_flow": null,
       "grid_area": null,
       "grid_auto_columns": null,
       "grid_auto_flow": null,
       "grid_auto_rows": null,
       "grid_column": null,
       "grid_gap": null,
       "grid_row": null,
       "grid_template_areas": null,
       "grid_template_columns": null,
       "grid_template_rows": null,
       "height": null,
       "justify_content": null,
       "justify_items": null,
       "left": null,
       "margin": null,
       "max_height": null,
       "max_width": null,
       "min_height": null,
       "min_width": null,
       "object_fit": null,
       "object_position": null,
       "order": null,
       "overflow": null,
       "overflow_x": null,
       "overflow_y": null,
       "padding": null,
       "right": null,
       "top": null,
       "visibility": null,
       "width": null
      }
     },
     "46843dedd55f4adf9de46dc96c59da48": {
      "model_module": "@jupyter-widgets/controls",
      "model_module_version": "1.5.0",
      "model_name": "DescriptionStyleModel",
      "state": {
       "_model_module": "@jupyter-widgets/controls",
       "_model_module_version": "1.5.0",
       "_model_name": "DescriptionStyleModel",
       "_view_count": null,
       "_view_module": "@jupyter-widgets/base",
       "_view_module_version": "1.2.0",
       "_view_name": "StyleView",
       "description_width": ""
      }
     },
     "4dc68cca7fcf4e20b0e20fa2bdabcb66": {
      "model_module": "@jupyter-widgets/controls",
      "model_module_version": "1.5.0",
      "model_name": "DescriptionStyleModel",
      "state": {
       "_model_module": "@jupyter-widgets/controls",
       "_model_module_version": "1.5.0",
       "_model_name": "DescriptionStyleModel",
       "_view_count": null,
       "_view_module": "@jupyter-widgets/base",
       "_view_module_version": "1.2.0",
       "_view_name": "StyleView",
       "description_width": ""
      }
     },
     "5d94454f74bf43a19b34761579c1405f": {
      "model_module": "@jupyter-widgets/controls",
      "model_module_version": "1.5.0",
      "model_name": "DescriptionStyleModel",
      "state": {
       "_model_module": "@jupyter-widgets/controls",
       "_model_module_version": "1.5.0",
       "_model_name": "DescriptionStyleModel",
       "_view_count": null,
       "_view_module": "@jupyter-widgets/base",
       "_view_module_version": "1.2.0",
       "_view_name": "StyleView",
       "description_width": ""
      }
     },
     "63c8a1e7c14a4955862e1fd6e42d6ba2": {
      "model_module": "@jupyter-widgets/controls",
      "model_module_version": "1.5.0",
      "model_name": "FloatProgressModel",
      "state": {
       "_dom_classes": [],
       "_model_module": "@jupyter-widgets/controls",
       "_model_module_version": "1.5.0",
       "_model_name": "FloatProgressModel",
       "_view_count": null,
       "_view_module": "@jupyter-widgets/controls",
       "_view_module_version": "1.5.0",
       "_view_name": "ProgressView",
       "bar_style": "success",
       "description": "",
       "description_tooltip": null,
       "layout": "IPY_MODEL_326529531bf34b63bfd777fcbcb0e266",
       "max": 1.0,
       "min": 0.0,
       "orientation": "horizontal",
       "style": "IPY_MODEL_3ed6202641dc437b9d81932ccdfd51dd",
       "value": 1.0
      }
     },
     "694447608e1a4b66b1ae3e2edb3b093f": {
      "model_module": "@jupyter-widgets/base",
      "model_module_version": "1.2.0",
      "model_name": "LayoutModel",
      "state": {
       "_model_module": "@jupyter-widgets/base",
       "_model_module_version": "1.2.0",
       "_model_name": "LayoutModel",
       "_view_count": null,
       "_view_module": "@jupyter-widgets/base",
       "_view_module_version": "1.2.0",
       "_view_name": "LayoutView",
       "align_content": null,
       "align_items": null,
       "align_self": null,
       "border": null,
       "bottom": null,
       "display": null,
       "flex": null,
       "flex_flow": null,
       "grid_area": null,
       "grid_auto_columns": null,
       "grid_auto_flow": null,
       "grid_auto_rows": null,
       "grid_column": null,
       "grid_gap": null,
       "grid_row": null,
       "grid_template_areas": null,
       "grid_template_columns": null,
       "grid_template_rows": null,
       "height": null,
       "justify_content": null,
       "justify_items": null,
       "left": null,
       "margin": null,
       "max_height": null,
       "max_width": null,
       "min_height": null,
       "min_width": null,
       "object_fit": null,
       "object_position": null,
       "order": null,
       "overflow": null,
       "overflow_x": null,
       "overflow_y": null,
       "padding": null,
       "right": null,
       "top": null,
       "visibility": null,
       "width": null
      }
     },
     "6cdd70878f8741aab9235772b7d42624": {
      "model_module": "@jupyter-widgets/base",
      "model_module_version": "1.2.0",
      "model_name": "LayoutModel",
      "state": {
       "_model_module": "@jupyter-widgets/base",
       "_model_module_version": "1.2.0",
       "_model_name": "LayoutModel",
       "_view_count": null,
       "_view_module": "@jupyter-widgets/base",
       "_view_module_version": "1.2.0",
       "_view_name": "LayoutView",
       "align_content": null,
       "align_items": null,
       "align_self": null,
       "border": null,
       "bottom": null,
       "display": null,
       "flex": null,
       "flex_flow": null,
       "grid_area": null,
       "grid_auto_columns": null,
       "grid_auto_flow": null,
       "grid_auto_rows": null,
       "grid_column": null,
       "grid_gap": null,
       "grid_row": null,
       "grid_template_areas": null,
       "grid_template_columns": null,
       "grid_template_rows": null,
       "height": null,
       "justify_content": null,
       "justify_items": null,
       "left": null,
       "margin": null,
       "max_height": null,
       "max_width": null,
       "min_height": null,
       "min_width": null,
       "object_fit": null,
       "object_position": null,
       "order": null,
       "overflow": null,
       "overflow_x": null,
       "overflow_y": null,
       "padding": null,
       "right": null,
       "top": null,
       "visibility": null,
       "width": null
      }
     },
     "6d4fd90250bf4159b7da14dd1ff846dd": {
      "model_module": "@jupyter-widgets/controls",
      "model_module_version": "1.5.0",
      "model_name": "HTMLModel",
      "state": {
       "_dom_classes": [],
       "_model_module": "@jupyter-widgets/controls",
       "_model_module_version": "1.5.0",
       "_model_name": "HTMLModel",
       "_view_count": null,
       "_view_module": "@jupyter-widgets/controls",
       "_view_module_version": "1.5.0",
       "_view_name": "HTMLView",
       "description": "",
       "description_tooltip": null,
       "layout": "IPY_MODEL_ce8732c567e04db4b1eb498403a9e0f3",
       "placeholder": "​",
       "style": "IPY_MODEL_17fbd8637eb64fdea67f3d9ab5d3d0cd",
       "value": " 1/1 [00:00&lt;00:00,  8.12it/s]"
      }
     },
     "6e46065219ea4f8aba5ad9401373f11d": {
      "model_module": "@jupyter-widgets/controls",
      "model_module_version": "1.5.0",
      "model_name": "DescriptionStyleModel",
      "state": {
       "_model_module": "@jupyter-widgets/controls",
       "_model_module_version": "1.5.0",
       "_model_name": "DescriptionStyleModel",
       "_view_count": null,
       "_view_module": "@jupyter-widgets/base",
       "_view_module_version": "1.2.0",
       "_view_name": "StyleView",
       "description_width": ""
      }
     },
     "74b32f01904c4d2ca95032ed403f8a36": {
      "model_module": "@jupyter-widgets/base",
      "model_module_version": "1.2.0",
      "model_name": "LayoutModel",
      "state": {
       "_model_module": "@jupyter-widgets/base",
       "_model_module_version": "1.2.0",
       "_model_name": "LayoutModel",
       "_view_count": null,
       "_view_module": "@jupyter-widgets/base",
       "_view_module_version": "1.2.0",
       "_view_name": "LayoutView",
       "align_content": null,
       "align_items": null,
       "align_self": null,
       "border": null,
       "bottom": null,
       "display": null,
       "flex": null,
       "flex_flow": null,
       "grid_area": null,
       "grid_auto_columns": null,
       "grid_auto_flow": null,
       "grid_auto_rows": null,
       "grid_column": null,
       "grid_gap": null,
       "grid_row": null,
       "grid_template_areas": null,
       "grid_template_columns": null,
       "grid_template_rows": null,
       "height": null,
       "justify_content": null,
       "justify_items": null,
       "left": null,
       "margin": null,
       "max_height": null,
       "max_width": null,
       "min_height": null,
       "min_width": null,
       "object_fit": null,
       "object_position": null,
       "order": null,
       "overflow": null,
       "overflow_x": null,
       "overflow_y": null,
       "padding": null,
       "right": null,
       "top": null,
       "visibility": null,
       "width": null
      }
     },
     "75e0b4fe300b48f8a0aa66fc8d97a8cb": {
      "model_module": "@jupyter-widgets/controls",
      "model_module_version": "1.5.0",
      "model_name": "DescriptionStyleModel",
      "state": {
       "_model_module": "@jupyter-widgets/controls",
       "_model_module_version": "1.5.0",
       "_model_name": "DescriptionStyleModel",
       "_view_count": null,
       "_view_module": "@jupyter-widgets/base",
       "_view_module_version": "1.2.0",
       "_view_name": "StyleView",
       "description_width": ""
      }
     },
     "778af01376e7473886c671b81458d5ff": {
      "model_module": "@jupyter-widgets/controls",
      "model_module_version": "1.5.0",
      "model_name": "HTMLModel",
      "state": {
       "_dom_classes": [],
       "_model_module": "@jupyter-widgets/controls",
       "_model_module_version": "1.5.0",
       "_model_name": "HTMLModel",
       "_view_count": null,
       "_view_module": "@jupyter-widgets/controls",
       "_view_module_version": "1.5.0",
       "_view_name": "HTMLView",
       "description": "",
       "description_tooltip": null,
       "layout": "IPY_MODEL_83d8da56305d4f11a24f9bf6e14dd1d8",
       "placeholder": "​",
       "style": "IPY_MODEL_6e46065219ea4f8aba5ad9401373f11d",
       "value": "100%"
      }
     },
     "80174b3452394f0aad7259b5fe6a3999": {
      "model_module": "@jupyter-widgets/controls",
      "model_module_version": "1.5.0",
      "model_name": "ProgressStyleModel",
      "state": {
       "_model_module": "@jupyter-widgets/controls",
       "_model_module_version": "1.5.0",
       "_model_name": "ProgressStyleModel",
       "_view_count": null,
       "_view_module": "@jupyter-widgets/base",
       "_view_module_version": "1.2.0",
       "_view_name": "StyleView",
       "bar_color": null,
       "description_width": ""
      }
     },
     "83d8da56305d4f11a24f9bf6e14dd1d8": {
      "model_module": "@jupyter-widgets/base",
      "model_module_version": "1.2.0",
      "model_name": "LayoutModel",
      "state": {
       "_model_module": "@jupyter-widgets/base",
       "_model_module_version": "1.2.0",
       "_model_name": "LayoutModel",
       "_view_count": null,
       "_view_module": "@jupyter-widgets/base",
       "_view_module_version": "1.2.0",
       "_view_name": "LayoutView",
       "align_content": null,
       "align_items": null,
       "align_self": null,
       "border": null,
       "bottom": null,
       "display": null,
       "flex": null,
       "flex_flow": null,
       "grid_area": null,
       "grid_auto_columns": null,
       "grid_auto_flow": null,
       "grid_auto_rows": null,
       "grid_column": null,
       "grid_gap": null,
       "grid_row": null,
       "grid_template_areas": null,
       "grid_template_columns": null,
       "grid_template_rows": null,
       "height": null,
       "justify_content": null,
       "justify_items": null,
       "left": null,
       "margin": null,
       "max_height": null,
       "max_width": null,
       "min_height": null,
       "min_width": null,
       "object_fit": null,
       "object_position": null,
       "order": null,
       "overflow": null,
       "overflow_x": null,
       "overflow_y": null,
       "padding": null,
       "right": null,
       "top": null,
       "visibility": null,
       "width": null
      }
     },
     "8474346e168341f0a710266376931ec3": {
      "model_module": "@jupyter-widgets/controls",
      "model_module_version": "1.5.0",
      "model_name": "HTMLModel",
      "state": {
       "_dom_classes": [],
       "_model_module": "@jupyter-widgets/controls",
       "_model_module_version": "1.5.0",
       "_model_name": "HTMLModel",
       "_view_count": null,
       "_view_module": "@jupyter-widgets/controls",
       "_view_module_version": "1.5.0",
       "_view_name": "HTMLView",
       "description": "",
       "description_tooltip": null,
       "layout": "IPY_MODEL_9d1aeaf2e5b44c9a99b421f267744dee",
       "placeholder": "​",
       "style": "IPY_MODEL_cc987587a1734159b975ebfb04ab8930",
       "value": "100%"
      }
     },
     "86d846d44a074f89a0713b4809925a4c": {
      "model_module": "@jupyter-widgets/controls",
      "model_module_version": "1.5.0",
      "model_name": "HTMLModel",
      "state": {
       "_dom_classes": [],
       "_model_module": "@jupyter-widgets/controls",
       "_model_module_version": "1.5.0",
       "_model_name": "HTMLModel",
       "_view_count": null,
       "_view_module": "@jupyter-widgets/controls",
       "_view_module_version": "1.5.0",
       "_view_name": "HTMLView",
       "description": "",
       "description_tooltip": null,
       "layout": "IPY_MODEL_bc30475ff7944bb1b596afe04b23c2e9",
       "placeholder": "​",
       "style": "IPY_MODEL_75e0b4fe300b48f8a0aa66fc8d97a8cb",
       "value": "100%"
      }
     },
     "88bcbd9e79b749bfa1a6de1ddc9bafec": {
      "model_module": "@jupyter-widgets/controls",
      "model_module_version": "1.5.0",
      "model_name": "FloatProgressModel",
      "state": {
       "_dom_classes": [],
       "_model_module": "@jupyter-widgets/controls",
       "_model_module_version": "1.5.0",
       "_model_name": "FloatProgressModel",
       "_view_count": null,
       "_view_module": "@jupyter-widgets/controls",
       "_view_module_version": "1.5.0",
       "_view_name": "ProgressView",
       "bar_style": "success",
       "description": "",
       "description_tooltip": null,
       "layout": "IPY_MODEL_b04ff709ec214224833465a449a4cb2f",
       "max": 1.0,
       "min": 0.0,
       "orientation": "horizontal",
       "style": "IPY_MODEL_9ca942a0af9a43649b2dc46af65d66c9",
       "value": 1.0
      }
     },
     "8ecc626c54e94e5e94b7e36703ceaddd": {
      "model_module": "@jupyter-widgets/base",
      "model_module_version": "1.2.0",
      "model_name": "LayoutModel",
      "state": {
       "_model_module": "@jupyter-widgets/base",
       "_model_module_version": "1.2.0",
       "_model_name": "LayoutModel",
       "_view_count": null,
       "_view_module": "@jupyter-widgets/base",
       "_view_module_version": "1.2.0",
       "_view_name": "LayoutView",
       "align_content": null,
       "align_items": null,
       "align_self": null,
       "border": null,
       "bottom": null,
       "display": null,
       "flex": null,
       "flex_flow": null,
       "grid_area": null,
       "grid_auto_columns": null,
       "grid_auto_flow": null,
       "grid_auto_rows": null,
       "grid_column": null,
       "grid_gap": null,
       "grid_row": null,
       "grid_template_areas": null,
       "grid_template_columns": null,
       "grid_template_rows": null,
       "height": null,
       "justify_content": null,
       "justify_items": null,
       "left": null,
       "margin": null,
       "max_height": null,
       "max_width": null,
       "min_height": null,
       "min_width": null,
       "object_fit": null,
       "object_position": null,
       "order": null,
       "overflow": null,
       "overflow_x": null,
       "overflow_y": null,
       "padding": null,
       "right": null,
       "top": null,
       "visibility": null,
       "width": null
      }
     },
     "8f148016e6d24200993a6f572ad5c63d": {
      "model_module": "@jupyter-widgets/controls",
      "model_module_version": "1.5.0",
      "model_name": "FloatProgressModel",
      "state": {
       "_dom_classes": [],
       "_model_module": "@jupyter-widgets/controls",
       "_model_module_version": "1.5.0",
       "_model_name": "FloatProgressModel",
       "_view_count": null,
       "_view_module": "@jupyter-widgets/controls",
       "_view_module_version": "1.5.0",
       "_view_name": "ProgressView",
       "bar_style": "success",
       "description": "",
       "description_tooltip": null,
       "layout": "IPY_MODEL_9b38a19be7ca4fbf93c40b1116046f70",
       "max": 1.0,
       "min": 0.0,
       "orientation": "horizontal",
       "style": "IPY_MODEL_0a1a9b4e162b46568681e1b20d4fae94",
       "value": 1.0
      }
     },
     "90866173a1e34cd58a60c0548d93209a": {
      "model_module": "@jupyter-widgets/base",
      "model_module_version": "1.2.0",
      "model_name": "LayoutModel",
      "state": {
       "_model_module": "@jupyter-widgets/base",
       "_model_module_version": "1.2.0",
       "_model_name": "LayoutModel",
       "_view_count": null,
       "_view_module": "@jupyter-widgets/base",
       "_view_module_version": "1.2.0",
       "_view_name": "LayoutView",
       "align_content": null,
       "align_items": null,
       "align_self": null,
       "border": null,
       "bottom": null,
       "display": null,
       "flex": null,
       "flex_flow": null,
       "grid_area": null,
       "grid_auto_columns": null,
       "grid_auto_flow": null,
       "grid_auto_rows": null,
       "grid_column": null,
       "grid_gap": null,
       "grid_row": null,
       "grid_template_areas": null,
       "grid_template_columns": null,
       "grid_template_rows": null,
       "height": null,
       "justify_content": null,
       "justify_items": null,
       "left": null,
       "margin": null,
       "max_height": null,
       "max_width": null,
       "min_height": null,
       "min_width": null,
       "object_fit": null,
       "object_position": null,
       "order": null,
       "overflow": null,
       "overflow_x": null,
       "overflow_y": null,
       "padding": null,
       "right": null,
       "top": null,
       "visibility": null,
       "width": null
      }
     },
     "9859e1b78d214264a7076a91d3ac83d0": {
      "model_module": "@jupyter-widgets/controls",
      "model_module_version": "1.5.0",
      "model_name": "HBoxModel",
      "state": {
       "_dom_classes": [],
       "_model_module": "@jupyter-widgets/controls",
       "_model_module_version": "1.5.0",
       "_model_name": "HBoxModel",
       "_view_count": null,
       "_view_module": "@jupyter-widgets/controls",
       "_view_module_version": "1.5.0",
       "_view_name": "HBoxView",
       "box_style": "",
       "children": [
        "IPY_MODEL_778af01376e7473886c671b81458d5ff",
        "IPY_MODEL_88bcbd9e79b749bfa1a6de1ddc9bafec",
        "IPY_MODEL_6d4fd90250bf4159b7da14dd1ff846dd"
       ],
       "layout": "IPY_MODEL_694447608e1a4b66b1ae3e2edb3b093f"
      }
     },
     "9b38a19be7ca4fbf93c40b1116046f70": {
      "model_module": "@jupyter-widgets/base",
      "model_module_version": "1.2.0",
      "model_name": "LayoutModel",
      "state": {
       "_model_module": "@jupyter-widgets/base",
       "_model_module_version": "1.2.0",
       "_model_name": "LayoutModel",
       "_view_count": null,
       "_view_module": "@jupyter-widgets/base",
       "_view_module_version": "1.2.0",
       "_view_name": "LayoutView",
       "align_content": null,
       "align_items": null,
       "align_self": null,
       "border": null,
       "bottom": null,
       "display": null,
       "flex": null,
       "flex_flow": null,
       "grid_area": null,
       "grid_auto_columns": null,
       "grid_auto_flow": null,
       "grid_auto_rows": null,
       "grid_column": null,
       "grid_gap": null,
       "grid_row": null,
       "grid_template_areas": null,
       "grid_template_columns": null,
       "grid_template_rows": null,
       "height": null,
       "justify_content": null,
       "justify_items": null,
       "left": null,
       "margin": null,
       "max_height": null,
       "max_width": null,
       "min_height": null,
       "min_width": null,
       "object_fit": null,
       "object_position": null,
       "order": null,
       "overflow": null,
       "overflow_x": null,
       "overflow_y": null,
       "padding": null,
       "right": null,
       "top": null,
       "visibility": null,
       "width": null
      }
     },
     "9ca942a0af9a43649b2dc46af65d66c9": {
      "model_module": "@jupyter-widgets/controls",
      "model_module_version": "1.5.0",
      "model_name": "ProgressStyleModel",
      "state": {
       "_model_module": "@jupyter-widgets/controls",
       "_model_module_version": "1.5.0",
       "_model_name": "ProgressStyleModel",
       "_view_count": null,
       "_view_module": "@jupyter-widgets/base",
       "_view_module_version": "1.2.0",
       "_view_name": "StyleView",
       "bar_color": null,
       "description_width": ""
      }
     },
     "9d1aeaf2e5b44c9a99b421f267744dee": {
      "model_module": "@jupyter-widgets/base",
      "model_module_version": "1.2.0",
      "model_name": "LayoutModel",
      "state": {
       "_model_module": "@jupyter-widgets/base",
       "_model_module_version": "1.2.0",
       "_model_name": "LayoutModel",
       "_view_count": null,
       "_view_module": "@jupyter-widgets/base",
       "_view_module_version": "1.2.0",
       "_view_name": "LayoutView",
       "align_content": null,
       "align_items": null,
       "align_self": null,
       "border": null,
       "bottom": null,
       "display": null,
       "flex": null,
       "flex_flow": null,
       "grid_area": null,
       "grid_auto_columns": null,
       "grid_auto_flow": null,
       "grid_auto_rows": null,
       "grid_column": null,
       "grid_gap": null,
       "grid_row": null,
       "grid_template_areas": null,
       "grid_template_columns": null,
       "grid_template_rows": null,
       "height": null,
       "justify_content": null,
       "justify_items": null,
       "left": null,
       "margin": null,
       "max_height": null,
       "max_width": null,
       "min_height": null,
       "min_width": null,
       "object_fit": null,
       "object_position": null,
       "order": null,
       "overflow": null,
       "overflow_x": null,
       "overflow_y": null,
       "padding": null,
       "right": null,
       "top": null,
       "visibility": null,
       "width": null
      }
     },
     "a3d82903329b4e629bd08000245d25d8": {
      "model_module": "@jupyter-widgets/controls",
      "model_module_version": "1.5.0",
      "model_name": "HBoxModel",
      "state": {
       "_dom_classes": [],
       "_model_module": "@jupyter-widgets/controls",
       "_model_module_version": "1.5.0",
       "_model_name": "HBoxModel",
       "_view_count": null,
       "_view_module": "@jupyter-widgets/controls",
       "_view_module_version": "1.5.0",
       "_view_name": "HBoxView",
       "box_style": "",
       "children": [
        "IPY_MODEL_413702e08d3c44e6828e26f6a17caa9e",
        "IPY_MODEL_63c8a1e7c14a4955862e1fd6e42d6ba2",
        "IPY_MODEL_0fa0b5d482ad43548b640502a6f1bf98"
       ],
       "layout": "IPY_MODEL_74b32f01904c4d2ca95032ed403f8a36"
      }
     },
     "ad681d39e48347efb6fb1a46cfddccc7": {
      "model_module": "@jupyter-widgets/controls",
      "model_module_version": "1.5.0",
      "model_name": "DescriptionStyleModel",
      "state": {
       "_model_module": "@jupyter-widgets/controls",
       "_model_module_version": "1.5.0",
       "_model_name": "DescriptionStyleModel",
       "_view_count": null,
       "_view_module": "@jupyter-widgets/base",
       "_view_module_version": "1.2.0",
       "_view_name": "StyleView",
       "description_width": ""
      }
     },
     "b04ff709ec214224833465a449a4cb2f": {
      "model_module": "@jupyter-widgets/base",
      "model_module_version": "1.2.0",
      "model_name": "LayoutModel",
      "state": {
       "_model_module": "@jupyter-widgets/base",
       "_model_module_version": "1.2.0",
       "_model_name": "LayoutModel",
       "_view_count": null,
       "_view_module": "@jupyter-widgets/base",
       "_view_module_version": "1.2.0",
       "_view_name": "LayoutView",
       "align_content": null,
       "align_items": null,
       "align_self": null,
       "border": null,
       "bottom": null,
       "display": null,
       "flex": null,
       "flex_flow": null,
       "grid_area": null,
       "grid_auto_columns": null,
       "grid_auto_flow": null,
       "grid_auto_rows": null,
       "grid_column": null,
       "grid_gap": null,
       "grid_row": null,
       "grid_template_areas": null,
       "grid_template_columns": null,
       "grid_template_rows": null,
       "height": null,
       "justify_content": null,
       "justify_items": null,
       "left": null,
       "margin": null,
       "max_height": null,
       "max_width": null,
       "min_height": null,
       "min_width": null,
       "object_fit": null,
       "object_position": null,
       "order": null,
       "overflow": null,
       "overflow_x": null,
       "overflow_y": null,
       "padding": null,
       "right": null,
       "top": null,
       "visibility": null,
       "width": null
      }
     },
     "b2c1dc6f1a4f4452ac36d271a075fc2e": {
      "model_module": "@jupyter-widgets/controls",
      "model_module_version": "1.5.0",
      "model_name": "DescriptionStyleModel",
      "state": {
       "_model_module": "@jupyter-widgets/controls",
       "_model_module_version": "1.5.0",
       "_model_name": "DescriptionStyleModel",
       "_view_count": null,
       "_view_module": "@jupyter-widgets/base",
       "_view_module_version": "1.2.0",
       "_view_name": "StyleView",
       "description_width": ""
      }
     },
     "b5e7c177683e4837bf4d821e0e709a2c": {
      "model_module": "@jupyter-widgets/controls",
      "model_module_version": "1.5.0",
      "model_name": "HTMLModel",
      "state": {
       "_dom_classes": [],
       "_model_module": "@jupyter-widgets/controls",
       "_model_module_version": "1.5.0",
       "_model_name": "HTMLModel",
       "_view_count": null,
       "_view_module": "@jupyter-widgets/controls",
       "_view_module_version": "1.5.0",
       "_view_name": "HTMLView",
       "description": "",
       "description_tooltip": null,
       "layout": "IPY_MODEL_ce709c8d859a48cdb34b908f09046c94",
       "placeholder": "​",
       "style": "IPY_MODEL_5d94454f74bf43a19b34761579c1405f",
       "value": "100%"
      }
     },
     "b60cc611467e4e0ab0e52bc48c6bcb36": {
      "model_module": "@jupyter-widgets/controls",
      "model_module_version": "1.5.0",
      "model_name": "HBoxModel",
      "state": {
       "_dom_classes": [],
       "_model_module": "@jupyter-widgets/controls",
       "_model_module_version": "1.5.0",
       "_model_name": "HBoxModel",
       "_view_count": null,
       "_view_module": "@jupyter-widgets/controls",
       "_view_module_version": "1.5.0",
       "_view_name": "HBoxView",
       "box_style": "",
       "children": [
        "IPY_MODEL_b5e7c177683e4837bf4d821e0e709a2c",
        "IPY_MODEL_e3d30456a5d34390aaf25261b69b3eb2",
        "IPY_MODEL_43893a0225fe4a248fed957d386547f8"
       ],
       "layout": "IPY_MODEL_90866173a1e34cd58a60c0548d93209a"
      }
     },
     "bafcd065f786423494b1c2888827fbae": {
      "model_module": "@jupyter-widgets/base",
      "model_module_version": "1.2.0",
      "model_name": "LayoutModel",
      "state": {
       "_model_module": "@jupyter-widgets/base",
       "_model_module_version": "1.2.0",
       "_model_name": "LayoutModel",
       "_view_count": null,
       "_view_module": "@jupyter-widgets/base",
       "_view_module_version": "1.2.0",
       "_view_name": "LayoutView",
       "align_content": null,
       "align_items": null,
       "align_self": null,
       "border": null,
       "bottom": null,
       "display": null,
       "flex": null,
       "flex_flow": null,
       "grid_area": null,
       "grid_auto_columns": null,
       "grid_auto_flow": null,
       "grid_auto_rows": null,
       "grid_column": null,
       "grid_gap": null,
       "grid_row": null,
       "grid_template_areas": null,
       "grid_template_columns": null,
       "grid_template_rows": null,
       "height": null,
       "justify_content": null,
       "justify_items": null,
       "left": null,
       "margin": null,
       "max_height": null,
       "max_width": null,
       "min_height": null,
       "min_width": null,
       "object_fit": null,
       "object_position": null,
       "order": null,
       "overflow": null,
       "overflow_x": null,
       "overflow_y": null,
       "padding": null,
       "right": null,
       "top": null,
       "visibility": null,
       "width": null
      }
     },
     "bc30475ff7944bb1b596afe04b23c2e9": {
      "model_module": "@jupyter-widgets/base",
      "model_module_version": "1.2.0",
      "model_name": "LayoutModel",
      "state": {
       "_model_module": "@jupyter-widgets/base",
       "_model_module_version": "1.2.0",
       "_model_name": "LayoutModel",
       "_view_count": null,
       "_view_module": "@jupyter-widgets/base",
       "_view_module_version": "1.2.0",
       "_view_name": "LayoutView",
       "align_content": null,
       "align_items": null,
       "align_self": null,
       "border": null,
       "bottom": null,
       "display": null,
       "flex": null,
       "flex_flow": null,
       "grid_area": null,
       "grid_auto_columns": null,
       "grid_auto_flow": null,
       "grid_auto_rows": null,
       "grid_column": null,
       "grid_gap": null,
       "grid_row": null,
       "grid_template_areas": null,
       "grid_template_columns": null,
       "grid_template_rows": null,
       "height": null,
       "justify_content": null,
       "justify_items": null,
       "left": null,
       "margin": null,
       "max_height": null,
       "max_width": null,
       "min_height": null,
       "min_width": null,
       "object_fit": null,
       "object_position": null,
       "order": null,
       "overflow": null,
       "overflow_x": null,
       "overflow_y": null,
       "padding": null,
       "right": null,
       "top": null,
       "visibility": null,
       "width": null
      }
     },
     "be072cd5c7e94773a8e041c916900dee": {
      "model_module": "@jupyter-widgets/base",
      "model_module_version": "1.2.0",
      "model_name": "LayoutModel",
      "state": {
       "_model_module": "@jupyter-widgets/base",
       "_model_module_version": "1.2.0",
       "_model_name": "LayoutModel",
       "_view_count": null,
       "_view_module": "@jupyter-widgets/base",
       "_view_module_version": "1.2.0",
       "_view_name": "LayoutView",
       "align_content": null,
       "align_items": null,
       "align_self": null,
       "border": null,
       "bottom": null,
       "display": null,
       "flex": null,
       "flex_flow": null,
       "grid_area": null,
       "grid_auto_columns": null,
       "grid_auto_flow": null,
       "grid_auto_rows": null,
       "grid_column": null,
       "grid_gap": null,
       "grid_row": null,
       "grid_template_areas": null,
       "grid_template_columns": null,
       "grid_template_rows": null,
       "height": null,
       "justify_content": null,
       "justify_items": null,
       "left": null,
       "margin": null,
       "max_height": null,
       "max_width": null,
       "min_height": null,
       "min_width": null,
       "object_fit": null,
       "object_position": null,
       "order": null,
       "overflow": null,
       "overflow_x": null,
       "overflow_y": null,
       "padding": null,
       "right": null,
       "top": null,
       "visibility": null,
       "width": null
      }
     },
     "c30e89fb04f146769ff33212f608e685": {
      "model_module": "@jupyter-widgets/controls",
      "model_module_version": "1.5.0",
      "model_name": "HTMLModel",
      "state": {
       "_dom_classes": [],
       "_model_module": "@jupyter-widgets/controls",
       "_model_module_version": "1.5.0",
       "_model_name": "HTMLModel",
       "_view_count": null,
       "_view_module": "@jupyter-widgets/controls",
       "_view_module_version": "1.5.0",
       "_view_name": "HTMLView",
       "description": "",
       "description_tooltip": null,
       "layout": "IPY_MODEL_bafcd065f786423494b1c2888827fbae",
       "placeholder": "​",
       "style": "IPY_MODEL_ad681d39e48347efb6fb1a46cfddccc7",
       "value": " 1/1 [00:00&lt;00:00,  8.65it/s]"
      }
     },
     "c4534939394c40048c636d442126a0ea": {
      "model_module": "@jupyter-widgets/controls",
      "model_module_version": "1.5.0",
      "model_name": "DescriptionStyleModel",
      "state": {
       "_model_module": "@jupyter-widgets/controls",
       "_model_module_version": "1.5.0",
       "_model_name": "DescriptionStyleModel",
       "_view_count": null,
       "_view_module": "@jupyter-widgets/base",
       "_view_module_version": "1.2.0",
       "_view_name": "StyleView",
       "description_width": ""
      }
     },
     "c6cd9348bbe840b0b57a061078e020db": {
      "model_module": "@jupyter-widgets/controls",
      "model_module_version": "1.5.0",
      "model_name": "ProgressStyleModel",
      "state": {
       "_model_module": "@jupyter-widgets/controls",
       "_model_module_version": "1.5.0",
       "_model_name": "ProgressStyleModel",
       "_view_count": null,
       "_view_module": "@jupyter-widgets/base",
       "_view_module_version": "1.2.0",
       "_view_name": "StyleView",
       "bar_color": null,
       "description_width": ""
      }
     },
     "cc987587a1734159b975ebfb04ab8930": {
      "model_module": "@jupyter-widgets/controls",
      "model_module_version": "1.5.0",
      "model_name": "DescriptionStyleModel",
      "state": {
       "_model_module": "@jupyter-widgets/controls",
       "_model_module_version": "1.5.0",
       "_model_name": "DescriptionStyleModel",
       "_view_count": null,
       "_view_module": "@jupyter-widgets/base",
       "_view_module_version": "1.2.0",
       "_view_name": "StyleView",
       "description_width": ""
      }
     },
     "ce709c8d859a48cdb34b908f09046c94": {
      "model_module": "@jupyter-widgets/base",
      "model_module_version": "1.2.0",
      "model_name": "LayoutModel",
      "state": {
       "_model_module": "@jupyter-widgets/base",
       "_model_module_version": "1.2.0",
       "_model_name": "LayoutModel",
       "_view_count": null,
       "_view_module": "@jupyter-widgets/base",
       "_view_module_version": "1.2.0",
       "_view_name": "LayoutView",
       "align_content": null,
       "align_items": null,
       "align_self": null,
       "border": null,
       "bottom": null,
       "display": null,
       "flex": null,
       "flex_flow": null,
       "grid_area": null,
       "grid_auto_columns": null,
       "grid_auto_flow": null,
       "grid_auto_rows": null,
       "grid_column": null,
       "grid_gap": null,
       "grid_row": null,
       "grid_template_areas": null,
       "grid_template_columns": null,
       "grid_template_rows": null,
       "height": null,
       "justify_content": null,
       "justify_items": null,
       "left": null,
       "margin": null,
       "max_height": null,
       "max_width": null,
       "min_height": null,
       "min_width": null,
       "object_fit": null,
       "object_position": null,
       "order": null,
       "overflow": null,
       "overflow_x": null,
       "overflow_y": null,
       "padding": null,
       "right": null,
       "top": null,
       "visibility": null,
       "width": null
      }
     },
     "ce8732c567e04db4b1eb498403a9e0f3": {
      "model_module": "@jupyter-widgets/base",
      "model_module_version": "1.2.0",
      "model_name": "LayoutModel",
      "state": {
       "_model_module": "@jupyter-widgets/base",
       "_model_module_version": "1.2.0",
       "_model_name": "LayoutModel",
       "_view_count": null,
       "_view_module": "@jupyter-widgets/base",
       "_view_module_version": "1.2.0",
       "_view_name": "LayoutView",
       "align_content": null,
       "align_items": null,
       "align_self": null,
       "border": null,
       "bottom": null,
       "display": null,
       "flex": null,
       "flex_flow": null,
       "grid_area": null,
       "grid_auto_columns": null,
       "grid_auto_flow": null,
       "grid_auto_rows": null,
       "grid_column": null,
       "grid_gap": null,
       "grid_row": null,
       "grid_template_areas": null,
       "grid_template_columns": null,
       "grid_template_rows": null,
       "height": null,
       "justify_content": null,
       "justify_items": null,
       "left": null,
       "margin": null,
       "max_height": null,
       "max_width": null,
       "min_height": null,
       "min_width": null,
       "object_fit": null,
       "object_position": null,
       "order": null,
       "overflow": null,
       "overflow_x": null,
       "overflow_y": null,
       "padding": null,
       "right": null,
       "top": null,
       "visibility": null,
       "width": null
      }
     },
     "d16ccb8707134c3c9c1a0e44a8c08fe8": {
      "model_module": "@jupyter-widgets/base",
      "model_module_version": "1.2.0",
      "model_name": "LayoutModel",
      "state": {
       "_model_module": "@jupyter-widgets/base",
       "_model_module_version": "1.2.0",
       "_model_name": "LayoutModel",
       "_view_count": null,
       "_view_module": "@jupyter-widgets/base",
       "_view_module_version": "1.2.0",
       "_view_name": "LayoutView",
       "align_content": null,
       "align_items": null,
       "align_self": null,
       "border": null,
       "bottom": null,
       "display": null,
       "flex": null,
       "flex_flow": null,
       "grid_area": null,
       "grid_auto_columns": null,
       "grid_auto_flow": null,
       "grid_auto_rows": null,
       "grid_column": null,
       "grid_gap": null,
       "grid_row": null,
       "grid_template_areas": null,
       "grid_template_columns": null,
       "grid_template_rows": null,
       "height": null,
       "justify_content": null,
       "justify_items": null,
       "left": null,
       "margin": null,
       "max_height": null,
       "max_width": null,
       "min_height": null,
       "min_width": null,
       "object_fit": null,
       "object_position": null,
       "order": null,
       "overflow": null,
       "overflow_x": null,
       "overflow_y": null,
       "padding": null,
       "right": null,
       "top": null,
       "visibility": null,
       "width": null
      }
     },
     "d621e02871614d96a82dff8f2d365499": {
      "model_module": "@jupyter-widgets/controls",
      "model_module_version": "1.5.0",
      "model_name": "FloatProgressModel",
      "state": {
       "_dom_classes": [],
       "_model_module": "@jupyter-widgets/controls",
       "_model_module_version": "1.5.0",
       "_model_name": "FloatProgressModel",
       "_view_count": null,
       "_view_module": "@jupyter-widgets/controls",
       "_view_module_version": "1.5.0",
       "_view_name": "ProgressView",
       "bar_style": "success",
       "description": "",
       "description_tooltip": null,
       "layout": "IPY_MODEL_6cdd70878f8741aab9235772b7d42624",
       "max": 1.0,
       "min": 0.0,
       "orientation": "horizontal",
       "style": "IPY_MODEL_c6cd9348bbe840b0b57a061078e020db",
       "value": 1.0
      }
     },
     "db645dab45634069a618453d69d63200": {
      "model_module": "@jupyter-widgets/base",
      "model_module_version": "1.2.0",
      "model_name": "LayoutModel",
      "state": {
       "_model_module": "@jupyter-widgets/base",
       "_model_module_version": "1.2.0",
       "_model_name": "LayoutModel",
       "_view_count": null,
       "_view_module": "@jupyter-widgets/base",
       "_view_module_version": "1.2.0",
       "_view_name": "LayoutView",
       "align_content": null,
       "align_items": null,
       "align_self": null,
       "border": null,
       "bottom": null,
       "display": null,
       "flex": null,
       "flex_flow": null,
       "grid_area": null,
       "grid_auto_columns": null,
       "grid_auto_flow": null,
       "grid_auto_rows": null,
       "grid_column": null,
       "grid_gap": null,
       "grid_row": null,
       "grid_template_areas": null,
       "grid_template_columns": null,
       "grid_template_rows": null,
       "height": null,
       "justify_content": null,
       "justify_items": null,
       "left": null,
       "margin": null,
       "max_height": null,
       "max_width": null,
       "min_height": null,
       "min_width": null,
       "object_fit": null,
       "object_position": null,
       "order": null,
       "overflow": null,
       "overflow_x": null,
       "overflow_y": null,
       "padding": null,
       "right": null,
       "top": null,
       "visibility": null,
       "width": null
      }
     },
     "e3d30456a5d34390aaf25261b69b3eb2": {
      "model_module": "@jupyter-widgets/controls",
      "model_module_version": "1.5.0",
      "model_name": "FloatProgressModel",
      "state": {
       "_dom_classes": [],
       "_model_module": "@jupyter-widgets/controls",
       "_model_module_version": "1.5.0",
       "_model_name": "FloatProgressModel",
       "_view_count": null,
       "_view_module": "@jupyter-widgets/controls",
       "_view_module_version": "1.5.0",
       "_view_name": "ProgressView",
       "bar_style": "success",
       "description": "",
       "description_tooltip": null,
       "layout": "IPY_MODEL_d16ccb8707134c3c9c1a0e44a8c08fe8",
       "max": 1.0,
       "min": 0.0,
       "orientation": "horizontal",
       "style": "IPY_MODEL_80174b3452394f0aad7259b5fe6a3999",
       "value": 1.0
      }
     }
    },
    "version_major": 2,
    "version_minor": 0
   }
  }
 },
 "nbformat": 4,
 "nbformat_minor": 5
}
