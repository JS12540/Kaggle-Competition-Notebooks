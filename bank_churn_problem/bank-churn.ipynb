{
 "cells": [
  {
   "cell_type": "code",
   "execution_count": 1,
   "id": "d4544551",
   "metadata": {
    "execution": {
     "iopub.execute_input": "2024-01-21T06:40:07.709669Z",
     "iopub.status.busy": "2024-01-21T06:40:07.709326Z",
     "iopub.status.idle": "2024-01-21T06:40:16.797849Z",
     "shell.execute_reply": "2024-01-21T06:40:16.796877Z"
    },
    "papermill": {
     "duration": 9.098486,
     "end_time": "2024-01-21T06:40:16.800569",
     "exception": false,
     "start_time": "2024-01-21T06:40:07.702083",
     "status": "completed"
    },
    "tags": []
   },
   "outputs": [
    {
     "name": "stderr",
     "output_type": "stream",
     "text": [
      "/opt/conda/lib/python3.10/site-packages/scipy/__init__.py:146: UserWarning: A NumPy version >=1.16.5 and <1.23.0 is required for this version of SciPy (detected version 1.24.3\n",
      "  warnings.warn(f\"A NumPy version >={np_minversion} and <{np_maxversion}\"\n"
     ]
    },
    {
     "name": "stderr",
     "output_type": "stream",
     "text": [
      "/opt/conda/lib/python3.10/site-packages/dask/dataframe/_pyarrow_compat.py:23: UserWarning: You are using pyarrow version 11.0.0 which is known to be insecure. See https://www.cve.org/CVERecord?id=CVE-2023-47248 for further details. Please upgrade to pyarrow>=14.0.1 or install pyarrow-hotfix to patch your current version.\n",
      "  warnings.warn(\n"
     ]
    }
   ],
   "source": [
    "import numpy as np\n",
    "import pandas as pd\n",
    "import lightgbm as lgb\n",
    "from sklearn.model_selection import train_test_split\n",
    "from sklearn.metrics import roc_auc_score\n",
    "import matplotlib.pyplot as plt\n",
    "from sklearn.model_selection import StratifiedKFold\n",
    "from sklearn.feature_extraction.text import TfidfVectorizer\n",
    "from sklearn.decomposition import TruncatedSVD\n",
    "from catboost import CatBoostClassifier, Pool\n",
    "from catboost.utils import eval_metric\n",
    "import warnings\n",
    "warnings.filterwarnings(\"ignore\")"
   ]
  },
  {
   "cell_type": "code",
   "execution_count": 2,
   "id": "fa6a1c62",
   "metadata": {
    "execution": {
     "iopub.execute_input": "2024-01-21T06:40:16.814260Z",
     "iopub.status.busy": "2024-01-21T06:40:16.813863Z",
     "iopub.status.idle": "2024-01-21T06:40:16.818178Z",
     "shell.execute_reply": "2024-01-21T06:40:16.817321Z"
    },
    "papermill": {
     "duration": 0.013186,
     "end_time": "2024-01-21T06:40:16.820159",
     "exception": false,
     "start_time": "2024-01-21T06:40:16.806973",
     "status": "completed"
    },
    "tags": []
   },
   "outputs": [],
   "source": [
    "from sklearn.preprocessing import MinMaxScaler"
   ]
  },
  {
   "cell_type": "code",
   "execution_count": 3,
   "id": "727911db",
   "metadata": {
    "execution": {
     "iopub.execute_input": "2024-01-21T06:40:16.832566Z",
     "iopub.status.busy": "2024-01-21T06:40:16.832293Z",
     "iopub.status.idle": "2024-01-21T06:40:16.836474Z",
     "shell.execute_reply": "2024-01-21T06:40:16.835619Z"
    },
    "papermill": {
     "duration": 0.012448,
     "end_time": "2024-01-21T06:40:16.838362",
     "exception": false,
     "start_time": "2024-01-21T06:40:16.825914",
     "status": "completed"
    },
    "tags": []
   },
   "outputs": [],
   "source": [
    "RAND_VAL=42\n",
    "num_folds=5 ## Number of folds\n",
    "n_est=3000 ## Number of estimators"
   ]
  },
  {
   "cell_type": "code",
   "execution_count": 4,
   "id": "9b3a171a",
   "metadata": {
    "execution": {
     "iopub.execute_input": "2024-01-21T06:40:16.850959Z",
     "iopub.status.busy": "2024-01-21T06:40:16.850627Z",
     "iopub.status.idle": "2024-01-21T06:40:17.318341Z",
     "shell.execute_reply": "2024-01-21T06:40:17.317299Z"
    },
    "papermill": {
     "duration": 0.476493,
     "end_time": "2024-01-21T06:40:17.320526",
     "exception": false,
     "start_time": "2024-01-21T06:40:16.844033",
     "status": "completed"
    },
    "tags": []
   },
   "outputs": [
    {
     "data": {
      "text/html": [
       "<div>\n",
       "<style scoped>\n",
       "    .dataframe tbody tr th:only-of-type {\n",
       "        vertical-align: middle;\n",
       "    }\n",
       "\n",
       "    .dataframe tbody tr th {\n",
       "        vertical-align: top;\n",
       "    }\n",
       "\n",
       "    .dataframe thead th {\n",
       "        text-align: right;\n",
       "    }\n",
       "</style>\n",
       "<table border=\"1\" class=\"dataframe\">\n",
       "  <thead>\n",
       "    <tr style=\"text-align: right;\">\n",
       "      <th></th>\n",
       "      <th>id</th>\n",
       "      <th>CustomerId</th>\n",
       "      <th>Surname</th>\n",
       "      <th>CreditScore</th>\n",
       "      <th>Geography</th>\n",
       "      <th>Gender</th>\n",
       "      <th>Age</th>\n",
       "      <th>Tenure</th>\n",
       "      <th>Balance</th>\n",
       "      <th>NumOfProducts</th>\n",
       "      <th>HasCrCard</th>\n",
       "      <th>IsActiveMember</th>\n",
       "      <th>EstimatedSalary</th>\n",
       "      <th>Exited</th>\n",
       "    </tr>\n",
       "  </thead>\n",
       "  <tbody>\n",
       "    <tr>\n",
       "      <th>0</th>\n",
       "      <td>0</td>\n",
       "      <td>15674932</td>\n",
       "      <td>Okwudilichukwu</td>\n",
       "      <td>668</td>\n",
       "      <td>France</td>\n",
       "      <td>Male</td>\n",
       "      <td>33.0</td>\n",
       "      <td>3</td>\n",
       "      <td>0.00</td>\n",
       "      <td>2</td>\n",
       "      <td>1.0</td>\n",
       "      <td>0.0</td>\n",
       "      <td>181449.97</td>\n",
       "      <td>0</td>\n",
       "    </tr>\n",
       "    <tr>\n",
       "      <th>1</th>\n",
       "      <td>1</td>\n",
       "      <td>15749177</td>\n",
       "      <td>Okwudiliolisa</td>\n",
       "      <td>627</td>\n",
       "      <td>France</td>\n",
       "      <td>Male</td>\n",
       "      <td>33.0</td>\n",
       "      <td>1</td>\n",
       "      <td>0.00</td>\n",
       "      <td>2</td>\n",
       "      <td>1.0</td>\n",
       "      <td>1.0</td>\n",
       "      <td>49503.50</td>\n",
       "      <td>0</td>\n",
       "    </tr>\n",
       "    <tr>\n",
       "      <th>2</th>\n",
       "      <td>2</td>\n",
       "      <td>15694510</td>\n",
       "      <td>Hsueh</td>\n",
       "      <td>678</td>\n",
       "      <td>France</td>\n",
       "      <td>Male</td>\n",
       "      <td>40.0</td>\n",
       "      <td>10</td>\n",
       "      <td>0.00</td>\n",
       "      <td>2</td>\n",
       "      <td>1.0</td>\n",
       "      <td>0.0</td>\n",
       "      <td>184866.69</td>\n",
       "      <td>0</td>\n",
       "    </tr>\n",
       "    <tr>\n",
       "      <th>3</th>\n",
       "      <td>3</td>\n",
       "      <td>15741417</td>\n",
       "      <td>Kao</td>\n",
       "      <td>581</td>\n",
       "      <td>France</td>\n",
       "      <td>Male</td>\n",
       "      <td>34.0</td>\n",
       "      <td>2</td>\n",
       "      <td>148882.54</td>\n",
       "      <td>1</td>\n",
       "      <td>1.0</td>\n",
       "      <td>1.0</td>\n",
       "      <td>84560.88</td>\n",
       "      <td>0</td>\n",
       "    </tr>\n",
       "    <tr>\n",
       "      <th>4</th>\n",
       "      <td>4</td>\n",
       "      <td>15766172</td>\n",
       "      <td>Chiemenam</td>\n",
       "      <td>716</td>\n",
       "      <td>Spain</td>\n",
       "      <td>Male</td>\n",
       "      <td>33.0</td>\n",
       "      <td>5</td>\n",
       "      <td>0.00</td>\n",
       "      <td>2</td>\n",
       "      <td>1.0</td>\n",
       "      <td>1.0</td>\n",
       "      <td>15068.83</td>\n",
       "      <td>0</td>\n",
       "    </tr>\n",
       "  </tbody>\n",
       "</table>\n",
       "</div>"
      ],
      "text/plain": [
       "   id  CustomerId         Surname  CreditScore Geography Gender   Age  Tenure  \\\n",
       "0   0    15674932  Okwudilichukwu          668    France   Male  33.0       3   \n",
       "1   1    15749177   Okwudiliolisa          627    France   Male  33.0       1   \n",
       "2   2    15694510           Hsueh          678    France   Male  40.0      10   \n",
       "3   3    15741417             Kao          581    France   Male  34.0       2   \n",
       "4   4    15766172       Chiemenam          716     Spain   Male  33.0       5   \n",
       "\n",
       "     Balance  NumOfProducts  HasCrCard  IsActiveMember  EstimatedSalary  \\\n",
       "0       0.00              2        1.0             0.0        181449.97   \n",
       "1       0.00              2        1.0             1.0         49503.50   \n",
       "2       0.00              2        1.0             0.0        184866.69   \n",
       "3  148882.54              1        1.0             1.0         84560.88   \n",
       "4       0.00              2        1.0             1.0         15068.83   \n",
       "\n",
       "   Exited  \n",
       "0       0  \n",
       "1       0  \n",
       "2       0  \n",
       "3       0  \n",
       "4       0  "
      ]
     },
     "execution_count": 4,
     "metadata": {},
     "output_type": "execute_result"
    }
   ],
   "source": [
    "df_train = pd.read_csv('/kaggle/input/playground-series-s4e1/train.csv')\n",
    "df_train.head()"
   ]
  },
  {
   "cell_type": "code",
   "execution_count": 5,
   "id": "fe627b89",
   "metadata": {
    "execution": {
     "iopub.execute_input": "2024-01-21T06:40:17.334097Z",
     "iopub.status.busy": "2024-01-21T06:40:17.333741Z",
     "iopub.status.idle": "2024-01-21T06:40:17.590170Z",
     "shell.execute_reply": "2024-01-21T06:40:17.589231Z"
    },
    "papermill": {
     "duration": 0.265775,
     "end_time": "2024-01-21T06:40:17.592520",
     "exception": false,
     "start_time": "2024-01-21T06:40:17.326745",
     "status": "completed"
    },
    "tags": []
   },
   "outputs": [
    {
     "data": {
      "text/html": [
       "<div>\n",
       "<style scoped>\n",
       "    .dataframe tbody tr th:only-of-type {\n",
       "        vertical-align: middle;\n",
       "    }\n",
       "\n",
       "    .dataframe tbody tr th {\n",
       "        vertical-align: top;\n",
       "    }\n",
       "\n",
       "    .dataframe thead th {\n",
       "        text-align: right;\n",
       "    }\n",
       "</style>\n",
       "<table border=\"1\" class=\"dataframe\">\n",
       "  <thead>\n",
       "    <tr style=\"text-align: right;\">\n",
       "      <th></th>\n",
       "      <th>id</th>\n",
       "      <th>CustomerId</th>\n",
       "      <th>Surname</th>\n",
       "      <th>CreditScore</th>\n",
       "      <th>Geography</th>\n",
       "      <th>Gender</th>\n",
       "      <th>Age</th>\n",
       "      <th>Tenure</th>\n",
       "      <th>Balance</th>\n",
       "      <th>NumOfProducts</th>\n",
       "      <th>HasCrCard</th>\n",
       "      <th>IsActiveMember</th>\n",
       "      <th>EstimatedSalary</th>\n",
       "    </tr>\n",
       "  </thead>\n",
       "  <tbody>\n",
       "    <tr>\n",
       "      <th>0</th>\n",
       "      <td>165034</td>\n",
       "      <td>15773898</td>\n",
       "      <td>Lucchese</td>\n",
       "      <td>586</td>\n",
       "      <td>France</td>\n",
       "      <td>Female</td>\n",
       "      <td>23.0</td>\n",
       "      <td>2</td>\n",
       "      <td>0.00</td>\n",
       "      <td>2</td>\n",
       "      <td>0.0</td>\n",
       "      <td>1.0</td>\n",
       "      <td>160976.75</td>\n",
       "    </tr>\n",
       "    <tr>\n",
       "      <th>1</th>\n",
       "      <td>165035</td>\n",
       "      <td>15782418</td>\n",
       "      <td>Nott</td>\n",
       "      <td>683</td>\n",
       "      <td>France</td>\n",
       "      <td>Female</td>\n",
       "      <td>46.0</td>\n",
       "      <td>2</td>\n",
       "      <td>0.00</td>\n",
       "      <td>1</td>\n",
       "      <td>1.0</td>\n",
       "      <td>0.0</td>\n",
       "      <td>72549.27</td>\n",
       "    </tr>\n",
       "    <tr>\n",
       "      <th>2</th>\n",
       "      <td>165036</td>\n",
       "      <td>15807120</td>\n",
       "      <td>K?</td>\n",
       "      <td>656</td>\n",
       "      <td>France</td>\n",
       "      <td>Female</td>\n",
       "      <td>34.0</td>\n",
       "      <td>7</td>\n",
       "      <td>0.00</td>\n",
       "      <td>2</td>\n",
       "      <td>1.0</td>\n",
       "      <td>0.0</td>\n",
       "      <td>138882.09</td>\n",
       "    </tr>\n",
       "    <tr>\n",
       "      <th>3</th>\n",
       "      <td>165037</td>\n",
       "      <td>15808905</td>\n",
       "      <td>O'Donnell</td>\n",
       "      <td>681</td>\n",
       "      <td>France</td>\n",
       "      <td>Male</td>\n",
       "      <td>36.0</td>\n",
       "      <td>8</td>\n",
       "      <td>0.00</td>\n",
       "      <td>1</td>\n",
       "      <td>1.0</td>\n",
       "      <td>0.0</td>\n",
       "      <td>113931.57</td>\n",
       "    </tr>\n",
       "    <tr>\n",
       "      <th>4</th>\n",
       "      <td>165038</td>\n",
       "      <td>15607314</td>\n",
       "      <td>Higgins</td>\n",
       "      <td>752</td>\n",
       "      <td>Germany</td>\n",
       "      <td>Male</td>\n",
       "      <td>38.0</td>\n",
       "      <td>10</td>\n",
       "      <td>121263.62</td>\n",
       "      <td>1</td>\n",
       "      <td>1.0</td>\n",
       "      <td>0.0</td>\n",
       "      <td>139431.00</td>\n",
       "    </tr>\n",
       "  </tbody>\n",
       "</table>\n",
       "</div>"
      ],
      "text/plain": [
       "       id  CustomerId    Surname  CreditScore Geography  Gender   Age  Tenure  \\\n",
       "0  165034    15773898   Lucchese          586    France  Female  23.0       2   \n",
       "1  165035    15782418       Nott          683    France  Female  46.0       2   \n",
       "2  165036    15807120         K?          656    France  Female  34.0       7   \n",
       "3  165037    15808905  O'Donnell          681    France    Male  36.0       8   \n",
       "4  165038    15607314    Higgins          752   Germany    Male  38.0      10   \n",
       "\n",
       "     Balance  NumOfProducts  HasCrCard  IsActiveMember  EstimatedSalary  \n",
       "0       0.00              2        0.0             1.0        160976.75  \n",
       "1       0.00              1        1.0             0.0         72549.27  \n",
       "2       0.00              2        1.0             0.0        138882.09  \n",
       "3       0.00              1        1.0             0.0        113931.57  \n",
       "4  121263.62              1        1.0             0.0        139431.00  "
      ]
     },
     "execution_count": 5,
     "metadata": {},
     "output_type": "execute_result"
    }
   ],
   "source": [
    "df_test = pd.read_csv('/kaggle/input/playground-series-s4e1/test.csv')\n",
    "df_test.head()"
   ]
  },
  {
   "cell_type": "code",
   "execution_count": 6,
   "id": "e91591b6",
   "metadata": {
    "execution": {
     "iopub.execute_input": "2024-01-21T06:40:17.609270Z",
     "iopub.status.busy": "2024-01-21T06:40:17.608860Z",
     "iopub.status.idle": "2024-01-21T06:40:17.658757Z",
     "shell.execute_reply": "2024-01-21T06:40:17.657997Z"
    },
    "papermill": {
     "duration": 0.060979,
     "end_time": "2024-01-21T06:40:17.661123",
     "exception": false,
     "start_time": "2024-01-21T06:40:17.600144",
     "status": "completed"
    },
    "tags": []
   },
   "outputs": [],
   "source": [
    "scale_cols = ['Age', 'CreditScore', 'Balance', 'EstimatedSalary']\n",
    "\n",
    "# Initialize the scaler\n",
    "scaler = MinMaxScaler()\n",
    "\n",
    "# Fit the scaler on the training data and transform both training and test data\n",
    "for c in scale_cols:\n",
    "    min_value = df_train[c].min()\n",
    "    max_value = df_train[c].max()\n",
    "\n",
    "    # Fit on training data\n",
    "    scaler.fit(df_train[[c]])\n",
    "\n",
    "    # Transform on both training and test data\n",
    "    df_train[c + \"_scaled\"] = scaler.transform(df_train[[c]])\n",
    "    df_test[c + \"_scaled\"] = scaler.transform(df_test[[c]])"
   ]
  },
  {
   "cell_type": "code",
   "execution_count": 7,
   "id": "ab3d7e47",
   "metadata": {
    "execution": {
     "iopub.execute_input": "2024-01-21T06:40:17.675464Z",
     "iopub.status.busy": "2024-01-21T06:40:17.674832Z",
     "iopub.status.idle": "2024-01-21T06:40:17.681441Z",
     "shell.execute_reply": "2024-01-21T06:40:17.680339Z"
    },
    "papermill": {
     "duration": 0.016029,
     "end_time": "2024-01-21T06:40:17.683539",
     "exception": false,
     "start_time": "2024-01-21T06:40:17.667510",
     "status": "completed"
    },
    "tags": []
   },
   "outputs": [],
   "source": [
    "def getFeats(df):\n",
    "    \n",
    "    df['IsSenior'] = df['Age'].apply(lambda x: 1 if x >= 60 else 0)\n",
    "    df['IsActive_by_CreditCard'] = df['HasCrCard'] * df['IsActiveMember']\n",
    "    df['Products_Per_Tenure'] =  df['Tenure'] / df['NumOfProducts']\n",
    "    df['AgeCat'] = np.round(df.Age/20).astype('int').astype('category')\n",
    "    \n",
    "    \n",
    "    return df"
   ]
  },
  {
   "cell_type": "code",
   "execution_count": 8,
   "id": "561a96d4",
   "metadata": {
    "execution": {
     "iopub.execute_input": "2024-01-21T06:40:17.707482Z",
     "iopub.status.busy": "2024-01-21T06:40:17.707152Z",
     "iopub.status.idle": "2024-01-21T06:40:17.950776Z",
     "shell.execute_reply": "2024-01-21T06:40:17.949741Z"
    },
    "papermill": {
     "duration": 0.253731,
     "end_time": "2024-01-21T06:40:17.952968",
     "exception": false,
     "start_time": "2024-01-21T06:40:17.699237",
     "status": "completed"
    },
    "tags": []
   },
   "outputs": [
    {
     "name": "stdout",
     "output_type": "stream",
     "text": [
      "Index(['CustomerId', 'Surname', 'Geography', 'Gender', 'Tenure',\n",
      "       'NumOfProducts', 'HasCrCard', 'IsActiveMember', 'Age_scaled',\n",
      "       'CreditScore_scaled', 'Balance_scaled', 'EstimatedSalary_scaled',\n",
      "       'IsSenior', 'IsActive_by_CreditCard', 'Products_Per_Tenure', 'AgeCat'],\n",
      "      dtype='object')\n"
     ]
    },
    {
     "data": {
      "text/html": [
       "<div>\n",
       "<style scoped>\n",
       "    .dataframe tbody tr th:only-of-type {\n",
       "        vertical-align: middle;\n",
       "    }\n",
       "\n",
       "    .dataframe tbody tr th {\n",
       "        vertical-align: top;\n",
       "    }\n",
       "\n",
       "    .dataframe thead th {\n",
       "        text-align: right;\n",
       "    }\n",
       "</style>\n",
       "<table border=\"1\" class=\"dataframe\">\n",
       "  <thead>\n",
       "    <tr style=\"text-align: right;\">\n",
       "      <th></th>\n",
       "      <th>id</th>\n",
       "      <th>CustomerId</th>\n",
       "      <th>Surname</th>\n",
       "      <th>CreditScore</th>\n",
       "      <th>Geography</th>\n",
       "      <th>Gender</th>\n",
       "      <th>Age</th>\n",
       "      <th>Tenure</th>\n",
       "      <th>Balance</th>\n",
       "      <th>NumOfProducts</th>\n",
       "      <th>...</th>\n",
       "      <th>EstimatedSalary</th>\n",
       "      <th>Exited</th>\n",
       "      <th>Age_scaled</th>\n",
       "      <th>CreditScore_scaled</th>\n",
       "      <th>Balance_scaled</th>\n",
       "      <th>EstimatedSalary_scaled</th>\n",
       "      <th>IsSenior</th>\n",
       "      <th>IsActive_by_CreditCard</th>\n",
       "      <th>Products_Per_Tenure</th>\n",
       "      <th>AgeCat</th>\n",
       "    </tr>\n",
       "  </thead>\n",
       "  <tbody>\n",
       "    <tr>\n",
       "      <th>0</th>\n",
       "      <td>0</td>\n",
       "      <td>15674932</td>\n",
       "      <td>Okwudilichukwu</td>\n",
       "      <td>668</td>\n",
       "      <td>France</td>\n",
       "      <td>Male</td>\n",
       "      <td>33.0</td>\n",
       "      <td>3</td>\n",
       "      <td>0.00</td>\n",
       "      <td>2</td>\n",
       "      <td>...</td>\n",
       "      <td>181449.97</td>\n",
       "      <td>0</td>\n",
       "      <td>0.202703</td>\n",
       "      <td>0.636</td>\n",
       "      <td>0.000000</td>\n",
       "      <td>0.907279</td>\n",
       "      <td>0</td>\n",
       "      <td>0.0</td>\n",
       "      <td>1.5</td>\n",
       "      <td>2</td>\n",
       "    </tr>\n",
       "    <tr>\n",
       "      <th>1</th>\n",
       "      <td>1</td>\n",
       "      <td>15749177</td>\n",
       "      <td>Okwudiliolisa</td>\n",
       "      <td>627</td>\n",
       "      <td>France</td>\n",
       "      <td>Male</td>\n",
       "      <td>33.0</td>\n",
       "      <td>1</td>\n",
       "      <td>0.00</td>\n",
       "      <td>2</td>\n",
       "      <td>...</td>\n",
       "      <td>49503.50</td>\n",
       "      <td>0</td>\n",
       "      <td>0.202703</td>\n",
       "      <td>0.554</td>\n",
       "      <td>0.000000</td>\n",
       "      <td>0.247483</td>\n",
       "      <td>0</td>\n",
       "      <td>1.0</td>\n",
       "      <td>0.5</td>\n",
       "      <td>2</td>\n",
       "    </tr>\n",
       "    <tr>\n",
       "      <th>2</th>\n",
       "      <td>2</td>\n",
       "      <td>15694510</td>\n",
       "      <td>Hsueh</td>\n",
       "      <td>678</td>\n",
       "      <td>France</td>\n",
       "      <td>Male</td>\n",
       "      <td>40.0</td>\n",
       "      <td>10</td>\n",
       "      <td>0.00</td>\n",
       "      <td>2</td>\n",
       "      <td>...</td>\n",
       "      <td>184866.69</td>\n",
       "      <td>0</td>\n",
       "      <td>0.297297</td>\n",
       "      <td>0.656</td>\n",
       "      <td>0.000000</td>\n",
       "      <td>0.924364</td>\n",
       "      <td>0</td>\n",
       "      <td>0.0</td>\n",
       "      <td>5.0</td>\n",
       "      <td>2</td>\n",
       "    </tr>\n",
       "    <tr>\n",
       "      <th>3</th>\n",
       "      <td>3</td>\n",
       "      <td>15741417</td>\n",
       "      <td>Kao</td>\n",
       "      <td>581</td>\n",
       "      <td>France</td>\n",
       "      <td>Male</td>\n",
       "      <td>34.0</td>\n",
       "      <td>2</td>\n",
       "      <td>148882.54</td>\n",
       "      <td>1</td>\n",
       "      <td>...</td>\n",
       "      <td>84560.88</td>\n",
       "      <td>0</td>\n",
       "      <td>0.216216</td>\n",
       "      <td>0.462</td>\n",
       "      <td>0.593398</td>\n",
       "      <td>0.422787</td>\n",
       "      <td>0</td>\n",
       "      <td>1.0</td>\n",
       "      <td>2.0</td>\n",
       "      <td>2</td>\n",
       "    </tr>\n",
       "    <tr>\n",
       "      <th>4</th>\n",
       "      <td>4</td>\n",
       "      <td>15766172</td>\n",
       "      <td>Chiemenam</td>\n",
       "      <td>716</td>\n",
       "      <td>Spain</td>\n",
       "      <td>Male</td>\n",
       "      <td>33.0</td>\n",
       "      <td>5</td>\n",
       "      <td>0.00</td>\n",
       "      <td>2</td>\n",
       "      <td>...</td>\n",
       "      <td>15068.83</td>\n",
       "      <td>0</td>\n",
       "      <td>0.202703</td>\n",
       "      <td>0.732</td>\n",
       "      <td>0.000000</td>\n",
       "      <td>0.075293</td>\n",
       "      <td>0</td>\n",
       "      <td>1.0</td>\n",
       "      <td>2.5</td>\n",
       "      <td>2</td>\n",
       "    </tr>\n",
       "  </tbody>\n",
       "</table>\n",
       "<p>5 rows × 22 columns</p>\n",
       "</div>"
      ],
      "text/plain": [
       "   id  CustomerId         Surname  CreditScore Geography Gender   Age  Tenure  \\\n",
       "0   0    15674932  Okwudilichukwu          668    France   Male  33.0       3   \n",
       "1   1    15749177   Okwudiliolisa          627    France   Male  33.0       1   \n",
       "2   2    15694510           Hsueh          678    France   Male  40.0      10   \n",
       "3   3    15741417             Kao          581    France   Male  34.0       2   \n",
       "4   4    15766172       Chiemenam          716     Spain   Male  33.0       5   \n",
       "\n",
       "     Balance  NumOfProducts  ...  EstimatedSalary  Exited  Age_scaled  \\\n",
       "0       0.00              2  ...        181449.97       0    0.202703   \n",
       "1       0.00              2  ...         49503.50       0    0.202703   \n",
       "2       0.00              2  ...        184866.69       0    0.297297   \n",
       "3  148882.54              1  ...         84560.88       0    0.216216   \n",
       "4       0.00              2  ...         15068.83       0    0.202703   \n",
       "\n",
       "   CreditScore_scaled  Balance_scaled  EstimatedSalary_scaled  IsSenior  \\\n",
       "0               0.636        0.000000                0.907279         0   \n",
       "1               0.554        0.000000                0.247483         0   \n",
       "2               0.656        0.000000                0.924364         0   \n",
       "3               0.462        0.593398                0.422787         0   \n",
       "4               0.732        0.000000                0.075293         0   \n",
       "\n",
       "   IsActive_by_CreditCard  Products_Per_Tenure  AgeCat  \n",
       "0                     0.0                  1.5       2  \n",
       "1                     1.0                  0.5       2  \n",
       "2                     0.0                  5.0       2  \n",
       "3                     1.0                  2.0       2  \n",
       "4                     1.0                  2.5       2  \n",
       "\n",
       "[5 rows x 22 columns]"
      ]
     },
     "execution_count": 8,
     "metadata": {},
     "output_type": "execute_result"
    }
   ],
   "source": [
    "df_train = getFeats(df_train)\n",
    "df_test = getFeats(df_test)\n",
    "##\n",
    "feat_cols=df_train.columns.drop(['id','Exited'])\n",
    "feat_cols=feat_cols.drop(scale_cols)\n",
    "print(feat_cols)\n",
    "df_train.head()"
   ]
  },
  {
   "cell_type": "code",
   "execution_count": 9,
   "id": "752e9bd7",
   "metadata": {
    "execution": {
     "iopub.execute_input": "2024-01-21T06:40:17.968350Z",
     "iopub.status.busy": "2024-01-21T06:40:17.967614Z",
     "iopub.status.idle": "2024-01-21T06:40:17.993193Z",
     "shell.execute_reply": "2024-01-21T06:40:17.992192Z"
    },
    "papermill": {
     "duration": 0.035239,
     "end_time": "2024-01-21T06:40:17.995323",
     "exception": false,
     "start_time": "2024-01-21T06:40:17.960084",
     "status": "completed"
    },
    "tags": []
   },
   "outputs": [
    {
     "data": {
      "text/html": [
       "<div>\n",
       "<style scoped>\n",
       "    .dataframe tbody tr th:only-of-type {\n",
       "        vertical-align: middle;\n",
       "    }\n",
       "\n",
       "    .dataframe tbody tr th {\n",
       "        vertical-align: top;\n",
       "    }\n",
       "\n",
       "    .dataframe thead th {\n",
       "        text-align: right;\n",
       "    }\n",
       "</style>\n",
       "<table border=\"1\" class=\"dataframe\">\n",
       "  <thead>\n",
       "    <tr style=\"text-align: right;\">\n",
       "      <th></th>\n",
       "      <th>id</th>\n",
       "      <th>CustomerId</th>\n",
       "      <th>Surname</th>\n",
       "      <th>CreditScore</th>\n",
       "      <th>Geography</th>\n",
       "      <th>Gender</th>\n",
       "      <th>Age</th>\n",
       "      <th>Tenure</th>\n",
       "      <th>Balance</th>\n",
       "      <th>NumOfProducts</th>\n",
       "      <th>...</th>\n",
       "      <th>IsActiveMember</th>\n",
       "      <th>EstimatedSalary</th>\n",
       "      <th>Age_scaled</th>\n",
       "      <th>CreditScore_scaled</th>\n",
       "      <th>Balance_scaled</th>\n",
       "      <th>EstimatedSalary_scaled</th>\n",
       "      <th>IsSenior</th>\n",
       "      <th>IsActive_by_CreditCard</th>\n",
       "      <th>Products_Per_Tenure</th>\n",
       "      <th>AgeCat</th>\n",
       "    </tr>\n",
       "  </thead>\n",
       "  <tbody>\n",
       "    <tr>\n",
       "      <th>0</th>\n",
       "      <td>165034</td>\n",
       "      <td>15773898</td>\n",
       "      <td>Lucchese</td>\n",
       "      <td>586</td>\n",
       "      <td>France</td>\n",
       "      <td>Female</td>\n",
       "      <td>23.0</td>\n",
       "      <td>2</td>\n",
       "      <td>0.00</td>\n",
       "      <td>2</td>\n",
       "      <td>...</td>\n",
       "      <td>1.0</td>\n",
       "      <td>160976.75</td>\n",
       "      <td>0.067568</td>\n",
       "      <td>0.472</td>\n",
       "      <td>0.000000</td>\n",
       "      <td>0.804903</td>\n",
       "      <td>0</td>\n",
       "      <td>0.0</td>\n",
       "      <td>1.0</td>\n",
       "      <td>1</td>\n",
       "    </tr>\n",
       "    <tr>\n",
       "      <th>1</th>\n",
       "      <td>165035</td>\n",
       "      <td>15782418</td>\n",
       "      <td>Nott</td>\n",
       "      <td>683</td>\n",
       "      <td>France</td>\n",
       "      <td>Female</td>\n",
       "      <td>46.0</td>\n",
       "      <td>2</td>\n",
       "      <td>0.00</td>\n",
       "      <td>1</td>\n",
       "      <td>...</td>\n",
       "      <td>0.0</td>\n",
       "      <td>72549.27</td>\n",
       "      <td>0.378378</td>\n",
       "      <td>0.666</td>\n",
       "      <td>0.000000</td>\n",
       "      <td>0.362723</td>\n",
       "      <td>0</td>\n",
       "      <td>0.0</td>\n",
       "      <td>2.0</td>\n",
       "      <td>2</td>\n",
       "    </tr>\n",
       "    <tr>\n",
       "      <th>2</th>\n",
       "      <td>165036</td>\n",
       "      <td>15807120</td>\n",
       "      <td>K?</td>\n",
       "      <td>656</td>\n",
       "      <td>France</td>\n",
       "      <td>Female</td>\n",
       "      <td>34.0</td>\n",
       "      <td>7</td>\n",
       "      <td>0.00</td>\n",
       "      <td>2</td>\n",
       "      <td>...</td>\n",
       "      <td>0.0</td>\n",
       "      <td>138882.09</td>\n",
       "      <td>0.216216</td>\n",
       "      <td>0.612</td>\n",
       "      <td>0.000000</td>\n",
       "      <td>0.694419</td>\n",
       "      <td>0</td>\n",
       "      <td>0.0</td>\n",
       "      <td>3.5</td>\n",
       "      <td>2</td>\n",
       "    </tr>\n",
       "    <tr>\n",
       "      <th>3</th>\n",
       "      <td>165037</td>\n",
       "      <td>15808905</td>\n",
       "      <td>O'Donnell</td>\n",
       "      <td>681</td>\n",
       "      <td>France</td>\n",
       "      <td>Male</td>\n",
       "      <td>36.0</td>\n",
       "      <td>8</td>\n",
       "      <td>0.00</td>\n",
       "      <td>1</td>\n",
       "      <td>...</td>\n",
       "      <td>0.0</td>\n",
       "      <td>113931.57</td>\n",
       "      <td>0.243243</td>\n",
       "      <td>0.662</td>\n",
       "      <td>0.000000</td>\n",
       "      <td>0.569654</td>\n",
       "      <td>0</td>\n",
       "      <td>0.0</td>\n",
       "      <td>8.0</td>\n",
       "      <td>2</td>\n",
       "    </tr>\n",
       "    <tr>\n",
       "      <th>4</th>\n",
       "      <td>165038</td>\n",
       "      <td>15607314</td>\n",
       "      <td>Higgins</td>\n",
       "      <td>752</td>\n",
       "      <td>Germany</td>\n",
       "      <td>Male</td>\n",
       "      <td>38.0</td>\n",
       "      <td>10</td>\n",
       "      <td>121263.62</td>\n",
       "      <td>1</td>\n",
       "      <td>...</td>\n",
       "      <td>0.0</td>\n",
       "      <td>139431.00</td>\n",
       "      <td>0.270270</td>\n",
       "      <td>0.804</td>\n",
       "      <td>0.483318</td>\n",
       "      <td>0.697164</td>\n",
       "      <td>0</td>\n",
       "      <td>0.0</td>\n",
       "      <td>10.0</td>\n",
       "      <td>2</td>\n",
       "    </tr>\n",
       "  </tbody>\n",
       "</table>\n",
       "<p>5 rows × 21 columns</p>\n",
       "</div>"
      ],
      "text/plain": [
       "       id  CustomerId    Surname  CreditScore Geography  Gender   Age  Tenure  \\\n",
       "0  165034    15773898   Lucchese          586    France  Female  23.0       2   \n",
       "1  165035    15782418       Nott          683    France  Female  46.0       2   \n",
       "2  165036    15807120         K?          656    France  Female  34.0       7   \n",
       "3  165037    15808905  O'Donnell          681    France    Male  36.0       8   \n",
       "4  165038    15607314    Higgins          752   Germany    Male  38.0      10   \n",
       "\n",
       "     Balance  NumOfProducts  ...  IsActiveMember  EstimatedSalary  Age_scaled  \\\n",
       "0       0.00              2  ...             1.0        160976.75    0.067568   \n",
       "1       0.00              1  ...             0.0         72549.27    0.378378   \n",
       "2       0.00              2  ...             0.0        138882.09    0.216216   \n",
       "3       0.00              1  ...             0.0        113931.57    0.243243   \n",
       "4  121263.62              1  ...             0.0        139431.00    0.270270   \n",
       "\n",
       "   CreditScore_scaled  Balance_scaled  EstimatedSalary_scaled  IsSenior  \\\n",
       "0               0.472        0.000000                0.804903         0   \n",
       "1               0.666        0.000000                0.362723         0   \n",
       "2               0.612        0.000000                0.694419         0   \n",
       "3               0.662        0.000000                0.569654         0   \n",
       "4               0.804        0.483318                0.697164         0   \n",
       "\n",
       "   IsActive_by_CreditCard  Products_Per_Tenure  AgeCat  \n",
       "0                     0.0                  1.0       1  \n",
       "1                     0.0                  2.0       2  \n",
       "2                     0.0                  3.5       2  \n",
       "3                     0.0                  8.0       2  \n",
       "4                     0.0                 10.0       2  \n",
       "\n",
       "[5 rows x 21 columns]"
      ]
     },
     "execution_count": 9,
     "metadata": {},
     "output_type": "execute_result"
    }
   ],
   "source": [
    "df_test.head()"
   ]
  },
  {
   "cell_type": "code",
   "execution_count": 10,
   "id": "d5001fee",
   "metadata": {
    "execution": {
     "iopub.execute_input": "2024-01-21T06:40:18.011028Z",
     "iopub.status.busy": "2024-01-21T06:40:18.010361Z",
     "iopub.status.idle": "2024-01-21T06:40:18.030155Z",
     "shell.execute_reply": "2024-01-21T06:40:18.029220Z"
    },
    "papermill": {
     "duration": 0.029694,
     "end_time": "2024-01-21T06:40:18.032044",
     "exception": false,
     "start_time": "2024-01-21T06:40:18.002350",
     "status": "completed"
    },
    "tags": []
   },
   "outputs": [
    {
     "data": {
      "text/plain": [
       "array([ 0,  1,  2,  3,  4,  5, 12, 15])"
      ]
     },
     "execution_count": 10,
     "metadata": {},
     "output_type": "execute_result"
    }
   ],
   "source": [
    "X=df_train[feat_cols]\n",
    "y=df_train['Exited']\n",
    "##\n",
    "cat_features = np.where(X.dtypes != np.float64)[0]\n",
    "cat_features"
   ]
  },
  {
   "cell_type": "markdown",
   "id": "49cc9d07",
   "metadata": {
    "papermill": {
     "duration": 0.006873,
     "end_time": "2024-01-21T06:40:18.046024",
     "exception": false,
     "start_time": "2024-01-21T06:40:18.039151",
     "status": "completed"
    },
    "tags": []
   },
   "source": [
    "> cat_features is a list of indices or names of columns in your dataset that are categorical. It is important to specify which features are categorical to ensure proper handling by the CatBoost algorithm.\n",
    "Categorical features often include variables like gender, country, or any other non-numeric variable that represents categories."
   ]
  },
  {
   "cell_type": "code",
   "execution_count": 11,
   "id": "3af8ce1a",
   "metadata": {
    "execution": {
     "iopub.execute_input": "2024-01-21T06:40:18.061602Z",
     "iopub.status.busy": "2024-01-21T06:40:18.060818Z"
    },
    "papermill": {
     "duration": null,
     "end_time": null,
     "exception": false,
     "start_time": "2024-01-21T06:40:18.052951",
     "status": "running"
    },
    "tags": []
   },
   "outputs": [
    {
     "name": "stdout",
     "output_type": "stream",
     "text": [
      "0:\ttest: 0.8618509\tbest: 0.8618509 (0)\ttotal: 237ms\tremaining: 11m 50s\n"
     ]
    },
    {
     "name": "stdout",
     "output_type": "stream",
     "text": [
      "300:\ttest: 0.8952348\tbest: 0.8952348 (300)\ttotal: 44s\tremaining: 6m 34s\n"
     ]
    },
    {
     "name": "stdout",
     "output_type": "stream",
     "text": [
      "600:\ttest: 0.8967626\tbest: 0.8967629 (599)\ttotal: 1m 27s\tremaining: 5m 49s\n"
     ]
    },
    {
     "name": "stdout",
     "output_type": "stream",
     "text": [
      "900:\ttest: 0.8971926\tbest: 0.8971955 (897)\ttotal: 2m 11s\tremaining: 5m 6s\n"
     ]
    }
   ],
   "source": [
    "folds = StratifiedKFold(n_splits=num_folds,random_state=RAND_VAL,shuffle=True)\n",
    "test_preds = np.empty((num_folds, len(df_test)))\n",
    "auc_vals=[]\n",
    "\n",
    "for n_fold, (train_idx, valid_idx) in enumerate(folds.split(X, y)):\n",
    "    \n",
    "    X_train, y_train = X.iloc[train_idx], y.iloc[train_idx]\n",
    "    X_val, y_val = X.iloc[valid_idx], y.iloc[valid_idx]\n",
    "    \n",
    "    train_pool = Pool(X_train, y_train,cat_features=cat_features)\n",
    "    val_pool = Pool(X_val, y_val,cat_features=cat_features)\n",
    "    \n",
    "    clf = CatBoostClassifier(\n",
    "    eval_metric='AUC',\n",
    "    learning_rate=0.03,\n",
    "    iterations=n_est)\n",
    "    clf.fit(train_pool, eval_set=val_pool,verbose=300)\n",
    "    \n",
    "    y_pred_val = clf.predict_proba(X_val[feat_cols])[:,1]\n",
    "    auc_val = roc_auc_score(y_val, y_pred_val)\n",
    "    print(\"AUC for fold \",n_fold,\": \",auc_val)\n",
    "    auc_vals.append(auc_val)\n",
    "    \n",
    "    y_pred_test = clf.predict_proba(df_test[feat_cols])[:,1]\n",
    "    test_preds[n_fold, :] = y_pred_test\n",
    "    print(\"----------------\")"
   ]
  },
  {
   "cell_type": "code",
   "execution_count": null,
   "id": "9f7f37ba",
   "metadata": {
    "execution": {
     "iopub.execute_input": "2024-01-21T06:38:04.740630Z",
     "iopub.status.busy": "2024-01-21T06:38:04.739776Z",
     "iopub.status.idle": "2024-01-21T06:38:04.747189Z",
     "shell.execute_reply": "2024-01-21T06:38:04.746145Z",
     "shell.execute_reply.started": "2024-01-21T06:38:04.740596Z"
    },
    "papermill": {
     "duration": null,
     "end_time": null,
     "exception": null,
     "start_time": null,
     "status": "pending"
    },
    "tags": []
   },
   "outputs": [],
   "source": [
    "test_preds"
   ]
  },
  {
   "cell_type": "code",
   "execution_count": null,
   "id": "ed6a7cf3",
   "metadata": {
    "execution": {
     "iopub.execute_input": "2024-01-21T06:38:12.753992Z",
     "iopub.status.busy": "2024-01-21T06:38:12.753393Z",
     "iopub.status.idle": "2024-01-21T06:38:12.759811Z",
     "shell.execute_reply": "2024-01-21T06:38:12.758915Z",
     "shell.execute_reply.started": "2024-01-21T06:38:12.753959Z"
    },
    "papermill": {
     "duration": null,
     "end_time": null,
     "exception": null,
     "start_time": null,
     "status": "pending"
    },
    "tags": []
   },
   "outputs": [],
   "source": [
    "\"Mean AUC: \",np.mean(auc_vals)"
   ]
  },
  {
   "cell_type": "markdown",
   "id": "8dde970f",
   "metadata": {
    "papermill": {
     "duration": null,
     "end_time": null,
     "exception": null,
     "start_time": null,
     "status": "pending"
    },
    "tags": []
   },
   "source": [
    "The SHAP (SHapley Additive exPlanations) library to explain the output of a machine learning model, specifically a tree-based model like CatBoost."
   ]
  },
  {
   "cell_type": "code",
   "execution_count": null,
   "id": "4801cd23",
   "metadata": {
    "execution": {
     "iopub.execute_input": "2024-01-21T06:38:14.763637Z",
     "iopub.status.busy": "2024-01-21T06:38:14.762696Z",
     "iopub.status.idle": "2024-01-21T06:39:00.772353Z",
     "shell.execute_reply": "2024-01-21T06:39:00.771423Z",
     "shell.execute_reply.started": "2024-01-21T06:38:14.763589Z"
    },
    "papermill": {
     "duration": null,
     "end_time": null,
     "exception": null,
     "start_time": null,
     "status": "pending"
    },
    "tags": []
   },
   "outputs": [],
   "source": [
    "import shap\n",
    "shap.initjs()\n",
    "explainer = shap.TreeExplainer(clf)\n",
    "shap_values = explainer.shap_values(train_pool)\n",
    "shap.summary_plot(shap_values, X_train, plot_type=\"bar\")"
   ]
  },
  {
   "cell_type": "code",
   "execution_count": null,
   "id": "07b12f1f",
   "metadata": {
    "execution": {
     "iopub.execute_input": "2024-01-21T06:39:00.774687Z",
     "iopub.status.busy": "2024-01-21T06:39:00.774150Z",
     "iopub.status.idle": "2024-01-21T06:39:00.787188Z",
     "shell.execute_reply": "2024-01-21T06:39:00.786288Z",
     "shell.execute_reply.started": "2024-01-21T06:39:00.774661Z"
    },
    "papermill": {
     "duration": null,
     "end_time": null,
     "exception": null,
     "start_time": null,
     "status": "pending"
    },
    "tags": []
   },
   "outputs": [],
   "source": [
    "y_pred = test_preds.mean(axis=0)\n",
    "df_sub = df_test[['id']]\n",
    "df_sub['Exited'] = y_pred\n",
    "df_sub.head()"
   ]
  },
  {
   "cell_type": "code",
   "execution_count": null,
   "id": "f2465e9f",
   "metadata": {
    "execution": {
     "iopub.execute_input": "2024-01-21T06:39:00.788512Z",
     "iopub.status.busy": "2024-01-21T06:39:00.788222Z",
     "iopub.status.idle": "2024-01-21T06:39:01.193245Z",
     "shell.execute_reply": "2024-01-21T06:39:01.192387Z",
     "shell.execute_reply.started": "2024-01-21T06:39:00.788489Z"
    },
    "papermill": {
     "duration": null,
     "end_time": null,
     "exception": null,
     "start_time": null,
     "status": "pending"
    },
    "tags": []
   },
   "outputs": [],
   "source": [
    "df_sub.to_csv(\"submission.csv\",index=False)"
   ]
  },
  {
   "cell_type": "code",
   "execution_count": null,
   "id": "06d254e6",
   "metadata": {
    "execution": {
     "iopub.execute_input": "2024-01-21T06:39:01.195554Z",
     "iopub.status.busy": "2024-01-21T06:39:01.195272Z",
     "iopub.status.idle": "2024-01-21T06:39:01.516229Z",
     "shell.execute_reply": "2024-01-21T06:39:01.515322Z",
     "shell.execute_reply.started": "2024-01-21T06:39:01.195531Z"
    },
    "papermill": {
     "duration": null,
     "end_time": null,
     "exception": null,
     "start_time": null,
     "status": "pending"
    },
    "tags": []
   },
   "outputs": [],
   "source": [
    "df_sub.hist(column='Exited', bins=20, range=[0,1],figsize=(12,6))\n",
    "plt.show()"
   ]
  }
 ],
 "metadata": {
  "kaggle": {
   "accelerator": "nvidiaTeslaT4",
   "dataSources": [
    {
     "databundleVersionId": 7405009,
     "sourceId": 65711,
     "sourceType": "competition"
    }
   ],
   "dockerImageVersionId": 30636,
   "isGpuEnabled": true,
   "isInternetEnabled": true,
   "language": "python",
   "sourceType": "notebook"
  },
  "kernelspec": {
   "display_name": "Python 3",
   "language": "python",
   "name": "python3"
  },
  "language_info": {
   "codemirror_mode": {
    "name": "ipython",
    "version": 3
   },
   "file_extension": ".py",
   "mimetype": "text/x-python",
   "name": "python",
   "nbconvert_exporter": "python",
   "pygments_lexer": "ipython3",
   "version": "3.10.12"
  },
  "papermill": {
   "default_parameters": {},
   "duration": null,
   "end_time": null,
   "environment_variables": {},
   "exception": null,
   "input_path": "__notebook__.ipynb",
   "output_path": "__notebook__.ipynb",
   "parameters": {},
   "start_time": "2024-01-21T06:40:02.856877",
   "version": "2.4.0"
  }
 },
 "nbformat": 4,
 "nbformat_minor": 5
}